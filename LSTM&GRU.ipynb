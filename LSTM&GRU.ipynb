{
  "nbformat": 4,
  "nbformat_minor": 0,
  "metadata": {
    "colab": {
      "provenance": [],
      "authorship_tag": "ABX9TyNgQOs8BnktFTR569abSMk7",
      "include_colab_link": true
    },
    "kernelspec": {
      "name": "python3",
      "display_name": "Python 3"
    },
    "language_info": {
      "name": "python"
    }
  },
  "cells": [
    {
      "cell_type": "markdown",
      "metadata": {
        "id": "view-in-github",
        "colab_type": "text"
      },
      "source": [
        "<a href=\"https://colab.research.google.com/github/Kim-Min-Gyeong/study-mldl/blob/main/LSTM%26GRU.ipynb\" target=\"_parent\"><img src=\"https://colab.research.google.com/assets/colab-badge.svg\" alt=\"Open In Colab\"/></a>"
      ]
    },
    {
      "cell_type": "markdown",
      "source": [
        "**LSTM 신경망 훈련하기**"
      ],
      "metadata": {
        "id": "Ub8fbH7W8ynv"
      }
    },
    {
      "cell_type": "markdown",
      "source": [
        "IMDB 리뷰 데이터를 로드하고, 훈련 세트와 검증 세트 분리"
      ],
      "metadata": {
        "id": "NgZXoZ1w82X1"
      }
    },
    {
      "cell_type": "code",
      "execution_count": 1,
      "metadata": {
        "colab": {
          "base_uri": "https://localhost:8080/"
        },
        "id": "ng4LSUhU5S-s",
        "outputId": "a764d3bd-0f3d-44be-b761-218ae2944b80"
      },
      "outputs": [
        {
          "output_type": "stream",
          "name": "stdout",
          "text": [
            "Downloading data from https://storage.googleapis.com/tensorflow/tf-keras-datasets/imdb.npz\n",
            "17464789/17464789 [==============================] - 0s 0us/step\n"
          ]
        }
      ],
      "source": [
        "from tensorflow.keras.datasets import imdb\n",
        "from sklearn.model_selection import train_test_split\n",
        "\n",
        "(train_input, train_target), (test_input, test_target) = imdb.load_data(num_words=500) #자주 사용되는 단어 500개\n",
        "train_input, val_input, train_target, val_target = train_test_split(train_input, train_target, test_size=0.2, random_state=42)"
      ]
    },
    {
      "cell_type": "markdown",
      "source": [
        "각 샘플의 길이를 100에 맞추고, 길이가 짧으면 패딩을 추가"
      ],
      "metadata": {
        "id": "hwZYIDeh9qCI"
      }
    },
    {
      "cell_type": "code",
      "source": [
        "from tensorflow.keras.preprocessing.sequence import pad_sequences\n",
        "train_seq = pad_sequences(train_input, maxlen=100)\n",
        "val_seq = pad_sequences(val_input, maxlen=100)"
      ],
      "metadata": {
        "id": "CRIdGtgq9vpj"
      },
      "execution_count": 2,
      "outputs": []
    },
    {
      "cell_type": "code",
      "source": [
        "#LSTM 셀을 사용한 순환층 생성\n",
        "from tensorflow import keras\n",
        "model = keras.Sequential()\n",
        "model.add(keras.layers.Embedding(500, 16, input_length=100)) #단어 임베딩\n",
        "model.add(keras.layers.LSTM(8))\n",
        "model.add(keras.layers.Dense(1, activation='sigmoid'))"
      ],
      "metadata": {
        "id": "oqOO4lBp9_z0"
      },
      "execution_count": 3,
      "outputs": []
    },
    {
      "cell_type": "code",
      "source": [
        "model.summary()"
      ],
      "metadata": {
        "colab": {
          "base_uri": "https://localhost:8080/"
        },
        "id": "PglTDX3m-jsV",
        "outputId": "fc13682b-e70a-4893-8b5e-e71d45170e3c"
      },
      "execution_count": 4,
      "outputs": [
        {
          "output_type": "stream",
          "name": "stdout",
          "text": [
            "Model: \"sequential\"\n",
            "_________________________________________________________________\n",
            " Layer (type)                Output Shape              Param #   \n",
            "=================================================================\n",
            " embedding (Embedding)       (None, 100, 16)           8000      \n",
            "                                                                 \n",
            " lstm (LSTM)                 (None, 8)                 800       \n",
            "                                                                 \n",
            " dense (Dense)               (None, 1)                 9         \n",
            "                                                                 \n",
            "=================================================================\n",
            "Total params: 8809 (34.41 KB)\n",
            "Trainable params: 8809 (34.41 KB)\n",
            "Non-trainable params: 0 (0.00 Byte)\n",
            "_________________________________________________________________\n"
          ]
        }
      ]
    },
    {
      "cell_type": "markdown",
      "source": [
        "SimpleRNN 클래스의 모델 파라미터 개수는 200개였다. LSTM 셀에는 작은 셀이 4개 있어 정확히 4배가 늘어 모델 파라미터 개수는 800개이다."
      ],
      "metadata": {
        "id": "K34nRgP7-oAB"
      }
    },
    {
      "cell_type": "code",
      "source": [
        "#모델 컴파일 및 훈련\n",
        "rmsprop = keras.optimizers.RMSprop(learning_rate=1e-4)\n",
        "model.compile(optimizer=rmsprop, loss='binary_crossentropy', metrics=['accuracy'])\n",
        "checkpoint_cb = keras.callbacks.ModelCheckpoint('best-lstm-model.h5', save_best_only=True)\n",
        "early_stopping_cb = keras.callbacks.EarlyStopping(patience=3, restore_best_weights=True)\n",
        "history = model.fit(train_seq, train_target, epochs=100, batch_size=64, validation_data=(val_seq, val_target), callbacks=[checkpoint_cb, early_stopping_cb])"
      ],
      "metadata": {
        "colab": {
          "base_uri": "https://localhost:8080/"
        },
        "id": "ZpSdsZAy-xSs",
        "outputId": "e77bcc5a-69ce-4276-e326-31a193785b84"
      },
      "execution_count": 5,
      "outputs": [
        {
          "output_type": "stream",
          "name": "stdout",
          "text": [
            "Epoch 1/100\n",
            "313/313 [==============================] - 19s 53ms/step - loss: 0.6929 - accuracy: 0.5253 - val_loss: 0.6925 - val_accuracy: 0.5562\n",
            "Epoch 2/100\n",
            "  3/313 [..............................] - ETA: 10s - loss: 0.6928 - accuracy: 0.5104"
          ]
        },
        {
          "output_type": "stream",
          "name": "stderr",
          "text": [
            "/usr/local/lib/python3.10/dist-packages/keras/src/engine/training.py:3103: UserWarning: You are saving your model as an HDF5 file via `model.save()`. This file format is considered legacy. We recommend using instead the native Keras format, e.g. `model.save('my_model.keras')`.\n",
            "  saving_api.save_model(\n"
          ]
        },
        {
          "output_type": "stream",
          "name": "stdout",
          "text": [
            "313/313 [==============================] - 26s 84ms/step - loss: 0.6917 - accuracy: 0.5830 - val_loss: 0.6910 - val_accuracy: 0.6006\n",
            "Epoch 3/100\n",
            "313/313 [==============================] - 21s 68ms/step - loss: 0.6894 - accuracy: 0.6165 - val_loss: 0.6877 - val_accuracy: 0.6270\n",
            "Epoch 4/100\n",
            "313/313 [==============================] - 23s 73ms/step - loss: 0.6835 - accuracy: 0.6472 - val_loss: 0.6782 - val_accuracy: 0.6552\n",
            "Epoch 5/100\n",
            "313/313 [==============================] - 13s 40ms/step - loss: 0.6619 - accuracy: 0.6740 - val_loss: 0.6316 - val_accuracy: 0.6876\n",
            "Epoch 6/100\n",
            "313/313 [==============================] - 16s 52ms/step - loss: 0.5978 - accuracy: 0.7196 - val_loss: 0.5768 - val_accuracy: 0.7258\n",
            "Epoch 7/100\n",
            "313/313 [==============================] - 12s 38ms/step - loss: 0.5647 - accuracy: 0.7375 - val_loss: 0.5576 - val_accuracy: 0.7408\n",
            "Epoch 8/100\n",
            "313/313 [==============================] - 13s 42ms/step - loss: 0.5439 - accuracy: 0.7495 - val_loss: 0.5389 - val_accuracy: 0.7494\n",
            "Epoch 9/100\n",
            "313/313 [==============================] - 12s 38ms/step - loss: 0.5259 - accuracy: 0.7599 - val_loss: 0.5238 - val_accuracy: 0.7600\n",
            "Epoch 10/100\n",
            "313/313 [==============================] - 12s 39ms/step - loss: 0.5098 - accuracy: 0.7685 - val_loss: 0.5097 - val_accuracy: 0.7700\n",
            "Epoch 11/100\n",
            "313/313 [==============================] - 12s 39ms/step - loss: 0.4958 - accuracy: 0.7767 - val_loss: 0.4977 - val_accuracy: 0.7794\n",
            "Epoch 12/100\n",
            "313/313 [==============================] - 12s 38ms/step - loss: 0.4837 - accuracy: 0.7837 - val_loss: 0.4875 - val_accuracy: 0.7786\n",
            "Epoch 13/100\n",
            "313/313 [==============================] - 13s 40ms/step - loss: 0.4723 - accuracy: 0.7893 - val_loss: 0.4791 - val_accuracy: 0.7842\n",
            "Epoch 14/100\n",
            "313/313 [==============================] - 12s 38ms/step - loss: 0.4624 - accuracy: 0.7954 - val_loss: 0.4697 - val_accuracy: 0.7894\n",
            "Epoch 15/100\n",
            "313/313 [==============================] - 12s 39ms/step - loss: 0.4530 - accuracy: 0.8001 - val_loss: 0.4669 - val_accuracy: 0.7844\n",
            "Epoch 16/100\n",
            "313/313 [==============================] - 12s 39ms/step - loss: 0.4454 - accuracy: 0.8015 - val_loss: 0.4575 - val_accuracy: 0.7900\n",
            "Epoch 17/100\n",
            "313/313 [==============================] - 14s 44ms/step - loss: 0.4391 - accuracy: 0.8065 - val_loss: 0.4517 - val_accuracy: 0.7930\n",
            "Epoch 18/100\n",
            "313/313 [==============================] - 12s 39ms/step - loss: 0.4341 - accuracy: 0.8070 - val_loss: 0.4483 - val_accuracy: 0.7944\n",
            "Epoch 19/100\n",
            "313/313 [==============================] - 12s 39ms/step - loss: 0.4299 - accuracy: 0.8104 - val_loss: 0.4460 - val_accuracy: 0.7954\n",
            "Epoch 20/100\n",
            "313/313 [==============================] - 13s 42ms/step - loss: 0.4268 - accuracy: 0.8111 - val_loss: 0.4434 - val_accuracy: 0.7966\n",
            "Epoch 21/100\n",
            "313/313 [==============================] - 12s 39ms/step - loss: 0.4243 - accuracy: 0.8108 - val_loss: 0.4416 - val_accuracy: 0.7982\n",
            "Epoch 22/100\n",
            "313/313 [==============================] - 12s 39ms/step - loss: 0.4221 - accuracy: 0.8124 - val_loss: 0.4409 - val_accuracy: 0.7972\n",
            "Epoch 23/100\n",
            "313/313 [==============================] - 12s 38ms/step - loss: 0.4207 - accuracy: 0.8121 - val_loss: 0.4392 - val_accuracy: 0.7964\n",
            "Epoch 24/100\n",
            "313/313 [==============================] - 16s 52ms/step - loss: 0.4186 - accuracy: 0.8135 - val_loss: 0.4381 - val_accuracy: 0.7966\n",
            "Epoch 25/100\n",
            "313/313 [==============================] - 16s 52ms/step - loss: 0.4177 - accuracy: 0.8129 - val_loss: 0.4379 - val_accuracy: 0.7960\n",
            "Epoch 26/100\n",
            "313/313 [==============================] - 19s 61ms/step - loss: 0.4161 - accuracy: 0.8139 - val_loss: 0.4375 - val_accuracy: 0.7960\n",
            "Epoch 27/100\n",
            "313/313 [==============================] - 17s 55ms/step - loss: 0.4153 - accuracy: 0.8145 - val_loss: 0.4366 - val_accuracy: 0.7962\n",
            "Epoch 28/100\n",
            "313/313 [==============================] - 15s 47ms/step - loss: 0.4142 - accuracy: 0.8138 - val_loss: 0.4401 - val_accuracy: 0.7944\n",
            "Epoch 29/100\n",
            "313/313 [==============================] - 13s 43ms/step - loss: 0.4130 - accuracy: 0.8145 - val_loss: 0.4355 - val_accuracy: 0.8002\n",
            "Epoch 30/100\n",
            "313/313 [==============================] - 13s 41ms/step - loss: 0.4128 - accuracy: 0.8145 - val_loss: 0.4348 - val_accuracy: 0.8002\n",
            "Epoch 31/100\n",
            "313/313 [==============================] - 16s 51ms/step - loss: 0.4116 - accuracy: 0.8140 - val_loss: 0.4346 - val_accuracy: 0.7996\n",
            "Epoch 32/100\n",
            "313/313 [==============================] - 14s 45ms/step - loss: 0.4114 - accuracy: 0.8148 - val_loss: 0.4357 - val_accuracy: 0.7998\n",
            "Epoch 33/100\n",
            "313/313 [==============================] - 15s 49ms/step - loss: 0.4109 - accuracy: 0.8147 - val_loss: 0.4337 - val_accuracy: 0.8016\n",
            "Epoch 34/100\n",
            "313/313 [==============================] - 15s 48ms/step - loss: 0.4102 - accuracy: 0.8153 - val_loss: 0.4366 - val_accuracy: 0.7956\n",
            "Epoch 35/100\n",
            "313/313 [==============================] - 12s 39ms/step - loss: 0.4095 - accuracy: 0.8147 - val_loss: 0.4334 - val_accuracy: 0.8018\n",
            "Epoch 36/100\n",
            "313/313 [==============================] - 12s 39ms/step - loss: 0.4090 - accuracy: 0.8159 - val_loss: 0.4345 - val_accuracy: 0.8002\n",
            "Epoch 37/100\n",
            "313/313 [==============================] - 12s 39ms/step - loss: 0.4086 - accuracy: 0.8155 - val_loss: 0.4320 - val_accuracy: 0.7988\n",
            "Epoch 38/100\n",
            "313/313 [==============================] - 12s 39ms/step - loss: 0.4079 - accuracy: 0.8168 - val_loss: 0.4336 - val_accuracy: 0.7992\n",
            "Epoch 39/100\n",
            "313/313 [==============================] - 13s 41ms/step - loss: 0.4077 - accuracy: 0.8149 - val_loss: 0.4319 - val_accuracy: 0.8026\n",
            "Epoch 40/100\n",
            "313/313 [==============================] - 12s 39ms/step - loss: 0.4071 - accuracy: 0.8162 - val_loss: 0.4310 - val_accuracy: 0.7980\n",
            "Epoch 41/100\n",
            "313/313 [==============================] - 14s 46ms/step - loss: 0.4066 - accuracy: 0.8170 - val_loss: 0.4308 - val_accuracy: 0.7990\n",
            "Epoch 42/100\n",
            "313/313 [==============================] - 12s 39ms/step - loss: 0.4063 - accuracy: 0.8153 - val_loss: 0.4309 - val_accuracy: 0.8044\n",
            "Epoch 43/100\n",
            "313/313 [==============================] - 12s 39ms/step - loss: 0.4058 - accuracy: 0.8169 - val_loss: 0.4304 - val_accuracy: 0.7998\n",
            "Epoch 44/100\n",
            "313/313 [==============================] - 12s 39ms/step - loss: 0.4053 - accuracy: 0.8152 - val_loss: 0.4307 - val_accuracy: 0.7982\n",
            "Epoch 45/100\n",
            "313/313 [==============================] - 13s 42ms/step - loss: 0.4052 - accuracy: 0.8164 - val_loss: 0.4299 - val_accuracy: 0.8034\n",
            "Epoch 46/100\n",
            "313/313 [==============================] - 13s 41ms/step - loss: 0.4046 - accuracy: 0.8162 - val_loss: 0.4299 - val_accuracy: 0.8046\n",
            "Epoch 47/100\n",
            "313/313 [==============================] - 13s 41ms/step - loss: 0.4040 - accuracy: 0.8156 - val_loss: 0.4311 - val_accuracy: 0.8014\n",
            "Epoch 48/100\n",
            "313/313 [==============================] - 13s 41ms/step - loss: 0.4037 - accuracy: 0.8158 - val_loss: 0.4294 - val_accuracy: 0.8014\n",
            "Epoch 49/100\n",
            "313/313 [==============================] - 20s 66ms/step - loss: 0.4034 - accuracy: 0.8163 - val_loss: 0.4314 - val_accuracy: 0.8058\n",
            "Epoch 50/100\n",
            "313/313 [==============================] - 16s 51ms/step - loss: 0.4029 - accuracy: 0.8164 - val_loss: 0.4342 - val_accuracy: 0.8020\n",
            "Epoch 51/100\n",
            "313/313 [==============================] - 14s 45ms/step - loss: 0.4027 - accuracy: 0.8173 - val_loss: 0.4304 - val_accuracy: 0.7976\n"
          ]
        }
      ]
    },
    {
      "cell_type": "code",
      "source": [
        "import matplotlib.pyplot as plt\n",
        "plt.plot(history.history['loss'])\n",
        "plt.plot(history.history['val_loss'])\n",
        "plt.xlabel('epoch')\n",
        "plt.ylabel('loss')\n",
        "plt.legend(['train', 'val'])\n",
        "plt.show()"
      ],
      "metadata": {
        "colab": {
          "base_uri": "https://localhost:8080/",
          "height": 449
        },
        "id": "I1-fjcb1_-ec",
        "outputId": "9a3773be-8291-4e90-8907-af1cfee8d090"
      },
      "execution_count": 6,
      "outputs": [
        {
          "output_type": "display_data",
          "data": {
            "text/plain": [
              "<Figure size 640x480 with 1 Axes>"
            ],
            "image/png": "[encoded data removed]"
          },
          "metadata": {}
        }
      ]
    },
    {
      "cell_type": "markdown",
      "source": [
        "**순환층에 드롭아웃 적용하기**"
      ],
      "metadata": {
        "id": "fHCmqfYvAVcd"
      }
    },
    {
      "cell_type": "code",
      "source": [
        "#LSTM 셀을 사용한 순환층 생성 2\n",
        "#dropout 적용\n",
        "model2 = keras.Sequential()\n",
        "model2.add(keras.layers.Embedding(500, 16, input_length=100)) #단어 임베딩\n",
        "model2.add(keras.layers.LSTM(8, dropout=0.3))\n",
        "model2.add(keras.layers.Dense(1, activation='sigmoid'))"
      ],
      "metadata": {
        "id": "yNbyW670AYTz"
      },
      "execution_count": 7,
      "outputs": []
    },
    {
      "cell_type": "code",
      "source": [
        "#모델 컴파일 및 훈련\n",
        "rmsprop = keras.optimizers.RMSprop(learning_rate=1e-4)\n",
        "model2.compile(optimizer=rmsprop, loss='binary_crossentropy', metrics=['accuracy'])\n",
        "checkpoint_cb = keras.callbacks.ModelCheckpoint('best-dropout-model.h5', save_best_only=True)\n",
        "early_stopping_cb = keras.callbacks.EarlyStopping(patience=3, restore_best_weights=True)\n",
        "history = model2.fit(train_seq, train_target, epochs=100, batch_size=64, validation_data=(val_seq, val_target), callbacks=[checkpoint_cb, early_stopping_cb])"
      ],
      "metadata": {
        "colab": {
          "base_uri": "https://localhost:8080/"
        },
        "id": "iTg5LP1VBd1d",
        "outputId": "a1b7125f-9735-4b48-bedc-911cb8bdf063"
      },
      "execution_count": 8,
      "outputs": [
        {
          "output_type": "stream",
          "name": "stdout",
          "text": [
            "Epoch 1/100\n",
            "313/313 [==============================] - 19s 52ms/step - loss: 0.6927 - accuracy: 0.5224 - val_loss: 0.6919 - val_accuracy: 0.5588\n",
            "Epoch 2/100\n",
            "  3/313 [..............................] - ETA: 11s - loss: 0.6916 - accuracy: 0.5625"
          ]
        },
        {
          "output_type": "stream",
          "name": "stderr",
          "text": [
            "/usr/local/lib/python3.10/dist-packages/keras/src/engine/training.py:3103: UserWarning: You are saving your model as an HDF5 file via `model.save()`. This file format is considered legacy. We recommend using instead the native Keras format, e.g. `model.save('my_model.keras')`.\n",
            "  saving_api.save_model(\n"
          ]
        },
        {
          "output_type": "stream",
          "name": "stdout",
          "text": [
            "313/313 [==============================] - 15s 48ms/step - loss: 0.6914 - accuracy: 0.5638 - val_loss: 0.6904 - val_accuracy: 0.5962\n",
            "Epoch 3/100\n",
            "313/313 [==============================] - 16s 51ms/step - loss: 0.6891 - accuracy: 0.6015 - val_loss: 0.6875 - val_accuracy: 0.6264\n",
            "Epoch 4/100\n",
            "313/313 [==============================] - 18s 59ms/step - loss: 0.6836 - accuracy: 0.6406 - val_loss: 0.6781 - val_accuracy: 0.6618\n",
            "Epoch 5/100\n",
            "313/313 [==============================] - 19s 60ms/step - loss: 0.6598 - accuracy: 0.6850 - val_loss: 0.6302 - val_accuracy: 0.7094\n",
            "Epoch 6/100\n",
            "313/313 [==============================] - 13s 41ms/step - loss: 0.6131 - accuracy: 0.7028 - val_loss: 0.6031 - val_accuracy: 0.7114\n",
            "Epoch 7/100\n",
            "313/313 [==============================] - 14s 46ms/step - loss: 0.5925 - accuracy: 0.7184 - val_loss: 0.5832 - val_accuracy: 0.7394\n",
            "Epoch 8/100\n",
            "313/313 [==============================] - 18s 58ms/step - loss: 0.5763 - accuracy: 0.7349 - val_loss: 0.5650 - val_accuracy: 0.7458\n",
            "Epoch 9/100\n",
            "313/313 [==============================] - 14s 46ms/step - loss: 0.5597 - accuracy: 0.7459 - val_loss: 0.5500 - val_accuracy: 0.7546\n",
            "Epoch 10/100\n",
            "313/313 [==============================] - 15s 49ms/step - loss: 0.5426 - accuracy: 0.7592 - val_loss: 0.5347 - val_accuracy: 0.7642\n",
            "Epoch 11/100\n",
            "313/313 [==============================] - 13s 42ms/step - loss: 0.5283 - accuracy: 0.7656 - val_loss: 0.5207 - val_accuracy: 0.7744\n",
            "Epoch 12/100\n",
            "313/313 [==============================] - 13s 43ms/step - loss: 0.5129 - accuracy: 0.7739 - val_loss: 0.5082 - val_accuracy: 0.7738\n",
            "Epoch 13/100\n",
            "313/313 [==============================] - 15s 49ms/step - loss: 0.5002 - accuracy: 0.7800 - val_loss: 0.4981 - val_accuracy: 0.7740\n",
            "Epoch 14/100\n",
            "313/313 [==============================] - 13s 41ms/step - loss: 0.4863 - accuracy: 0.7868 - val_loss: 0.4844 - val_accuracy: 0.7826\n",
            "Epoch 15/100\n",
            "313/313 [==============================] - 13s 42ms/step - loss: 0.4742 - accuracy: 0.7928 - val_loss: 0.4746 - val_accuracy: 0.7862\n",
            "Epoch 16/100\n",
            "313/313 [==============================] - 13s 40ms/step - loss: 0.4656 - accuracy: 0.7933 - val_loss: 0.4667 - val_accuracy: 0.7904\n",
            "Epoch 17/100\n",
            "313/313 [==============================] - 13s 42ms/step - loss: 0.4595 - accuracy: 0.7965 - val_loss: 0.4612 - val_accuracy: 0.7912\n",
            "Epoch 18/100\n",
            "313/313 [==============================] - 13s 42ms/step - loss: 0.4543 - accuracy: 0.7941 - val_loss: 0.4561 - val_accuracy: 0.7910\n",
            "Epoch 19/100\n",
            "313/313 [==============================] - 13s 41ms/step - loss: 0.4466 - accuracy: 0.8001 - val_loss: 0.4539 - val_accuracy: 0.7906\n",
            "Epoch 20/100\n",
            "313/313 [==============================] - 13s 41ms/step - loss: 0.4448 - accuracy: 0.8027 - val_loss: 0.4508 - val_accuracy: 0.7924\n",
            "Epoch 21/100\n",
            "313/313 [==============================] - 12s 40ms/step - loss: 0.4413 - accuracy: 0.8014 - val_loss: 0.4481 - val_accuracy: 0.7928\n",
            "Epoch 22/100\n",
            "313/313 [==============================] - 12s 40ms/step - loss: 0.4397 - accuracy: 0.8034 - val_loss: 0.4463 - val_accuracy: 0.7940\n",
            "Epoch 23/100\n",
            "313/313 [==============================] - 13s 41ms/step - loss: 0.4357 - accuracy: 0.8062 - val_loss: 0.4444 - val_accuracy: 0.7948\n",
            "Epoch 24/100\n",
            "313/313 [==============================] - 13s 40ms/step - loss: 0.4360 - accuracy: 0.8015 - val_loss: 0.4437 - val_accuracy: 0.7976\n",
            "Epoch 25/100\n",
            "313/313 [==============================] - 13s 42ms/step - loss: 0.4305 - accuracy: 0.8062 - val_loss: 0.4426 - val_accuracy: 0.7946\n",
            "Epoch 26/100\n",
            "313/313 [==============================] - 15s 48ms/step - loss: 0.4302 - accuracy: 0.8065 - val_loss: 0.4414 - val_accuracy: 0.7974\n",
            "Epoch 27/100\n",
            "313/313 [==============================] - 13s 40ms/step - loss: 0.4287 - accuracy: 0.8067 - val_loss: 0.4400 - val_accuracy: 0.7938\n",
            "Epoch 28/100\n",
            "313/313 [==============================] - 13s 40ms/step - loss: 0.4270 - accuracy: 0.8051 - val_loss: 0.4397 - val_accuracy: 0.7978\n",
            "Epoch 29/100\n",
            "313/313 [==============================] - 13s 42ms/step - loss: 0.4258 - accuracy: 0.8070 - val_loss: 0.4385 - val_accuracy: 0.7946\n",
            "Epoch 30/100\n",
            "313/313 [==============================] - 13s 42ms/step - loss: 0.4240 - accuracy: 0.8083 - val_loss: 0.4410 - val_accuracy: 0.7956\n",
            "Epoch 31/100\n",
            "313/313 [==============================] - 13s 40ms/step - loss: 0.4248 - accuracy: 0.8062 - val_loss: 0.4380 - val_accuracy: 0.7980\n",
            "Epoch 32/100\n",
            "313/313 [==============================] - 13s 43ms/step - loss: 0.4239 - accuracy: 0.8080 - val_loss: 0.4373 - val_accuracy: 0.7990\n",
            "Epoch 33/100\n",
            "313/313 [==============================] - 13s 41ms/step - loss: 0.4218 - accuracy: 0.8074 - val_loss: 0.4389 - val_accuracy: 0.7932\n",
            "Epoch 34/100\n",
            "313/313 [==============================] - 13s 41ms/step - loss: 0.4214 - accuracy: 0.8080 - val_loss: 0.4357 - val_accuracy: 0.7962\n",
            "Epoch 35/100\n",
            "313/313 [==============================] - 13s 42ms/step - loss: 0.4213 - accuracy: 0.8098 - val_loss: 0.4356 - val_accuracy: 0.7958\n",
            "Epoch 36/100\n",
            "313/313 [==============================] - 13s 43ms/step - loss: 0.4202 - accuracy: 0.8103 - val_loss: 0.4348 - val_accuracy: 0.7964\n",
            "Epoch 37/100\n",
            "313/313 [==============================] - 13s 41ms/step - loss: 0.4198 - accuracy: 0.8098 - val_loss: 0.4361 - val_accuracy: 0.8004\n",
            "Epoch 38/100\n",
            "313/313 [==============================] - 13s 40ms/step - loss: 0.4200 - accuracy: 0.8111 - val_loss: 0.4357 - val_accuracy: 0.7970\n",
            "Epoch 39/100\n",
            "313/313 [==============================] - 13s 42ms/step - loss: 0.4188 - accuracy: 0.8102 - val_loss: 0.4358 - val_accuracy: 0.8018\n"
          ]
        }
      ]
    },
    {
      "cell_type": "code",
      "source": [
        "plt.plot(history.history['loss'])\n",
        "plt.plot(history.history['val_loss'])\n",
        "plt.xlabel('epoch')\n",
        "plt.ylabel('loss')\n",
        "plt.legend(['train', 'val'])\n",
        "plt.show()"
      ],
      "metadata": {
        "colab": {
          "base_uri": "https://localhost:8080/",
          "height": 449
        },
        "id": "YBngG-RBBpTh",
        "outputId": "4f095365-a34b-4bb4-ab37-9d57a22859c1"
      },
      "execution_count": 9,
      "outputs": [
        {
          "output_type": "display_data",
          "data": {
            "text/plain": [
              "<Figure size 640x480 with 1 Axes>"
            ],
            "image/png": "[encoded data removed]"
          },
          "metadata": {}
        }
      ]
    },
    {
      "cell_type": "markdown",
      "source": [
        "LSTM 층에 적용한 드롭아웃이 효과를 발휘한 것 같다! <br>\n",
        "훈련 손실과 검증 손실 간의 차이가 좁혀진 것을 확인할 수 있다."
      ],
      "metadata": {
        "id": "2-SDRRBtBtjv"
      }
    },
    {
      "cell_type": "markdown",
      "source": [
        "**2개의 순환층 쌓기**"
      ],
      "metadata": {
        "id": "uRkKavQdCioZ"
      }
    },
    {
      "cell_type": "code",
      "source": [
        "model3 = keras.Sequential()\n",
        "model3.add(keras.layers.Embedding(500, 16, input_length=100)) #단어 임베딩\n",
        "model3.add(keras.layers.LSTM(8, dropout=0.3, return_sequences=True))\n",
        "model3.add(keras.layers.LSTM(8, dropout=0.3))\n",
        "model3.add(keras.layers.Dense(1, activation='sigmoid'))"
      ],
      "metadata": {
        "id": "oZ0UfGA2Ch_K"
      },
      "execution_count": 10,
      "outputs": []
    },
    {
      "cell_type": "code",
      "source": [
        "model.summary()"
      ],
      "metadata": {
        "colab": {
          "base_uri": "https://localhost:8080/"
        },
        "id": "Dx4HA2uMC4I8",
        "outputId": "aa6fdcbe-5343-4f2e-a334-229e8b504f59"
      },
      "execution_count": 11,
      "outputs": [
        {
          "output_type": "stream",
          "name": "stdout",
          "text": [
            "Model: \"sequential\"\n",
            "_________________________________________________________________\n",
            " Layer (type)                Output Shape              Param #   \n",
            "=================================================================\n",
            " embedding (Embedding)       (None, 100, 16)           8000      \n",
            "                                                                 \n",
            " lstm (LSTM)                 (None, 8)                 800       \n",
            "                                                                 \n",
            " dense (Dense)               (None, 1)                 9         \n",
            "                                                                 \n",
            "=================================================================\n",
            "Total params: 8809 (34.41 KB)\n",
            "Trainable params: 8809 (34.41 KB)\n",
            "Non-trainable params: 0 (0.00 Byte)\n",
            "_________________________________________________________________\n"
          ]
        }
      ]
    },
    {
      "cell_type": "markdown",
      "source": [
        "첫 번째 LSTM 층이 모든 타임스텝(100개)의 은닉 상태를 출력하기 때문에, 출력 크기가 (None, 100, 8)로 표시되었다. 이에 반해 두 번째 LSTM 층의 출력 크기는 마지막 타임스텝의 은닉 상태만 출력하기 때문에 (None, 8)이다."
      ],
      "metadata": {
        "id": "uBeg2My8C8bw"
      }
    },
    {
      "cell_type": "code",
      "source": [
        "#모델 컴파일 및 훈련\n",
        "rmsprop = keras.optimizers.RMSprop(learning_rate=1e-4)\n",
        "model3.compile(optimizer=rmsprop, loss='binary_crossentropy', metrics=['accuracy'])\n",
        "checkpoint_cb = keras.callbacks.ModelCheckpoint('best-2rnn-model.h5', save_best_only=True)\n",
        "early_stopping_cb = keras.callbacks.EarlyStopping(patience=3, restore_best_weights=True)\n",
        "history = model3.fit(train_seq, train_target, epochs=100, batch_size=64, validation_data=(val_seq, val_target), callbacks=[checkpoint_cb, early_stopping_cb])"
      ],
      "metadata": {
        "colab": {
          "base_uri": "https://localhost:8080/"
        },
        "id": "bxVKql8lDdRp",
        "outputId": "a40f7aa5-c758-42fd-d939-0653bc66ba42"
      },
      "execution_count": 12,
      "outputs": [
        {
          "output_type": "stream",
          "name": "stdout",
          "text": [
            "Epoch 1/100\n",
            "313/313 [==============================] - 36s 104ms/step - loss: 0.6929 - accuracy: 0.5121 - val_loss: 0.6928 - val_accuracy: 0.5096\n",
            "Epoch 2/100\n",
            "  2/313 [..............................] - ETA: 22s - loss: 0.6926 - accuracy: 0.5469"
          ]
        },
        {
          "output_type": "stream",
          "name": "stderr",
          "text": [
            "/usr/local/lib/python3.10/dist-packages/keras/src/engine/training.py:3103: UserWarning: You are saving your model as an HDF5 file via `model.save()`. This file format is considered legacy. We recommend using instead the native Keras format, e.g. `model.save('my_model.keras')`.\n",
            "  saving_api.save_model(\n"
          ]
        },
        {
          "output_type": "stream",
          "name": "stdout",
          "text": [
            "313/313 [==============================] - 33s 105ms/step - loss: 0.6916 - accuracy: 0.5564 - val_loss: 0.6908 - val_accuracy: 0.5526\n",
            "Epoch 3/100\n",
            "313/313 [==============================] - 28s 88ms/step - loss: 0.6869 - accuracy: 0.6029 - val_loss: 0.6815 - val_accuracy: 0.6402\n",
            "Epoch 4/100\n",
            "313/313 [==============================] - 30s 97ms/step - loss: 0.6634 - accuracy: 0.6563 - val_loss: 0.6356 - val_accuracy: 0.6782\n",
            "Epoch 5/100\n",
            "313/313 [==============================] - 32s 104ms/step - loss: 0.5943 - accuracy: 0.6947 - val_loss: 0.5657 - val_accuracy: 0.7134\n",
            "Epoch 6/100\n",
            "313/313 [==============================] - 31s 100ms/step - loss: 0.5512 - accuracy: 0.7272 - val_loss: 0.5389 - val_accuracy: 0.7338\n",
            "Epoch 7/100\n",
            "313/313 [==============================] - 30s 97ms/step - loss: 0.5304 - accuracy: 0.7430 - val_loss: 0.5140 - val_accuracy: 0.7522\n",
            "Epoch 8/100\n",
            "313/313 [==============================] - 27s 86ms/step - loss: 0.5077 - accuracy: 0.7588 - val_loss: 0.4975 - val_accuracy: 0.7670\n",
            "Epoch 9/100\n",
            "313/313 [==============================] - 25s 80ms/step - loss: 0.4932 - accuracy: 0.7704 - val_loss: 0.4933 - val_accuracy: 0.7692\n",
            "Epoch 10/100\n",
            "313/313 [==============================] - 26s 82ms/step - loss: 0.4828 - accuracy: 0.7770 - val_loss: 0.4782 - val_accuracy: 0.7778\n",
            "Epoch 11/100\n",
            "313/313 [==============================] - 28s 90ms/step - loss: 0.4752 - accuracy: 0.7829 - val_loss: 0.4733 - val_accuracy: 0.7802\n",
            "Epoch 12/100\n",
            "313/313 [==============================] - 25s 78ms/step - loss: 0.4657 - accuracy: 0.7859 - val_loss: 0.4686 - val_accuracy: 0.7836\n",
            "Epoch 13/100\n",
            "313/313 [==============================] - 25s 79ms/step - loss: 0.4623 - accuracy: 0.7894 - val_loss: 0.4689 - val_accuracy: 0.7810\n",
            "Epoch 14/100\n",
            "313/313 [==============================] - 24s 78ms/step - loss: 0.4581 - accuracy: 0.7905 - val_loss: 0.4588 - val_accuracy: 0.7866\n",
            "Epoch 15/100\n",
            "313/313 [==============================] - 24s 75ms/step - loss: 0.4553 - accuracy: 0.7903 - val_loss: 0.4562 - val_accuracy: 0.7880\n",
            "Epoch 16/100\n",
            "313/313 [==============================] - 24s 75ms/step - loss: 0.4513 - accuracy: 0.7918 - val_loss: 0.4549 - val_accuracy: 0.7892\n",
            "Epoch 17/100\n",
            "313/313 [==============================] - 26s 82ms/step - loss: 0.4484 - accuracy: 0.7957 - val_loss: 0.4591 - val_accuracy: 0.7838\n",
            "Epoch 18/100\n",
            "313/313 [==============================] - 24s 75ms/step - loss: 0.4451 - accuracy: 0.7992 - val_loss: 0.4499 - val_accuracy: 0.7932\n",
            "Epoch 19/100\n",
            "313/313 [==============================] - 24s 77ms/step - loss: 0.4439 - accuracy: 0.7956 - val_loss: 0.4642 - val_accuracy: 0.7834\n",
            "Epoch 20/100\n",
            "313/313 [==============================] - 30s 96ms/step - loss: 0.4408 - accuracy: 0.7982 - val_loss: 0.4498 - val_accuracy: 0.7922\n",
            "Epoch 21/100\n",
            "313/313 [==============================] - 25s 79ms/step - loss: 0.4393 - accuracy: 0.8005 - val_loss: 0.4518 - val_accuracy: 0.7872\n",
            "Epoch 22/100\n",
            "313/313 [==============================] - 28s 88ms/step - loss: 0.4392 - accuracy: 0.7979 - val_loss: 0.4442 - val_accuracy: 0.7928\n",
            "Epoch 23/100\n",
            "313/313 [==============================] - 26s 84ms/step - loss: 0.4357 - accuracy: 0.8007 - val_loss: 0.4485 - val_accuracy: 0.7908\n",
            "Epoch 24/100\n",
            "313/313 [==============================] - 24s 78ms/step - loss: 0.4357 - accuracy: 0.8000 - val_loss: 0.4455 - val_accuracy: 0.7882\n",
            "Epoch 25/100\n",
            "313/313 [==============================] - 24s 78ms/step - loss: 0.4321 - accuracy: 0.8030 - val_loss: 0.4425 - val_accuracy: 0.7904\n",
            "Epoch 26/100\n",
            "313/313 [==============================] - 25s 79ms/step - loss: 0.4320 - accuracy: 0.8013 - val_loss: 0.4443 - val_accuracy: 0.7890\n",
            "Epoch 27/100\n",
            "313/313 [==============================] - 25s 81ms/step - loss: 0.4317 - accuracy: 0.8059 - val_loss: 0.4427 - val_accuracy: 0.7904\n",
            "Epoch 28/100\n",
            "313/313 [==============================] - 24s 78ms/step - loss: 0.4293 - accuracy: 0.8037 - val_loss: 0.4389 - val_accuracy: 0.7960\n",
            "Epoch 29/100\n",
            "313/313 [==============================] - 25s 80ms/step - loss: 0.4291 - accuracy: 0.8033 - val_loss: 0.4402 - val_accuracy: 0.7918\n",
            "Epoch 30/100\n",
            "313/313 [==============================] - 24s 77ms/step - loss: 0.4282 - accuracy: 0.8071 - val_loss: 0.4381 - val_accuracy: 0.7960\n",
            "Epoch 31/100\n",
            "313/313 [==============================] - 25s 79ms/step - loss: 0.4267 - accuracy: 0.8040 - val_loss: 0.4379 - val_accuracy: 0.7982\n",
            "Epoch 32/100\n",
            "313/313 [==============================] - 23s 75ms/step - loss: 0.4280 - accuracy: 0.8050 - val_loss: 0.4361 - val_accuracy: 0.7978\n",
            "Epoch 33/100\n",
            "313/313 [==============================] - 24s 76ms/step - loss: 0.4269 - accuracy: 0.8050 - val_loss: 0.4379 - val_accuracy: 0.7984\n",
            "Epoch 34/100\n",
            "313/313 [==============================] - 26s 82ms/step - loss: 0.4232 - accuracy: 0.8048 - val_loss: 0.4351 - val_accuracy: 0.7964\n",
            "Epoch 35/100\n",
            "313/313 [==============================] - 26s 82ms/step - loss: 0.4240 - accuracy: 0.8067 - val_loss: 0.4354 - val_accuracy: 0.7990\n",
            "Epoch 36/100\n",
            "313/313 [==============================] - 26s 82ms/step - loss: 0.4238 - accuracy: 0.8056 - val_loss: 0.4340 - val_accuracy: 0.7998\n",
            "Epoch 37/100\n",
            "313/313 [==============================] - 24s 77ms/step - loss: 0.4246 - accuracy: 0.8072 - val_loss: 0.4356 - val_accuracy: 0.7978\n",
            "Epoch 38/100\n",
            "313/313 [==============================] - 24s 77ms/step - loss: 0.4211 - accuracy: 0.8074 - val_loss: 0.4340 - val_accuracy: 0.7994\n",
            "Epoch 39/100\n",
            "313/313 [==============================] - 24s 78ms/step - loss: 0.4236 - accuracy: 0.8091 - val_loss: 0.4342 - val_accuracy: 0.8006\n",
            "Epoch 40/100\n",
            "313/313 [==============================] - 24s 77ms/step - loss: 0.4220 - accuracy: 0.8084 - val_loss: 0.4333 - val_accuracy: 0.8006\n",
            "Epoch 41/100\n",
            "313/313 [==============================] - 24s 78ms/step - loss: 0.4220 - accuracy: 0.8063 - val_loss: 0.4322 - val_accuracy: 0.7998\n",
            "Epoch 42/100\n",
            "313/313 [==============================] - 24s 77ms/step - loss: 0.4211 - accuracy: 0.8080 - val_loss: 0.4332 - val_accuracy: 0.8030\n",
            "Epoch 43/100\n",
            "313/313 [==============================] - 24s 77ms/step - loss: 0.4187 - accuracy: 0.8086 - val_loss: 0.4323 - val_accuracy: 0.8018\n",
            "Epoch 44/100\n",
            "313/313 [==============================] - 24s 77ms/step - loss: 0.4174 - accuracy: 0.8091 - val_loss: 0.4339 - val_accuracy: 0.8012\n"
          ]
        }
      ]
    },
    {
      "cell_type": "code",
      "source": [
        "plt.plot(history.history['loss'])\n",
        "plt.plot(history.history['val_loss'])\n",
        "plt.xlabel('epoch')\n",
        "plt.ylabel('loss')\n",
        "plt.legend(['train', 'val'])\n",
        "plt.show()"
      ],
      "metadata": {
        "colab": {
          "base_uri": "https://localhost:8080/",
          "height": 449
        },
        "id": "b1emfBg1DuVw",
        "outputId": "fbb55701-3bc9-4d7c-9dbe-8869219b224d"
      },
      "execution_count": 13,
      "outputs": [
        {
          "output_type": "display_data",
          "data": {
            "text/plain": [
              "<Figure size 640x480 with 1 Axes>"
            ],
            "image/png": "[encoded data removed]"
          },
          "metadata": {}
        }
      ]
    },
    {
      "cell_type": "markdown",
      "source": [
        "**GRU 신경망 훈련하기**"
      ],
      "metadata": {
        "id": "ehXRPpbUFbDI"
      }
    },
    {
      "cell_type": "code",
      "source": [
        "model4 = keras.Sequential()\n",
        "model4.add(keras.layers.Embedding(500, 16, input_length=100)) #단어 임베딩\n",
        "model4.add(keras.layers.GRU(8))\n",
        "model4.add(keras.layers.Dense(1, activation='sigmoid'))"
      ],
      "metadata": {
        "id": "bYUnxpYkFhfN"
      },
      "execution_count": 14,
      "outputs": []
    },
    {
      "cell_type": "code",
      "source": [
        "model4.summary()"
      ],
      "metadata": {
        "colab": {
          "base_uri": "https://localhost:8080/"
        },
        "id": "4-Mp55DoFiY6",
        "outputId": "84aab680-9e5a-40eb-fc6e-b00d5085903c"
      },
      "execution_count": 15,
      "outputs": [
        {
          "output_type": "stream",
          "name": "stdout",
          "text": [
            "Model: \"sequential_3\"\n",
            "_________________________________________________________________\n",
            " Layer (type)                Output Shape              Param #   \n",
            "=================================================================\n",
            " embedding_3 (Embedding)     (None, 100, 16)           8000      \n",
            "                                                                 \n",
            " gru (GRU)                   (None, 8)                 624       \n",
            "                                                                 \n",
            " dense_3 (Dense)             (None, 1)                 9         \n",
            "                                                                 \n",
            "=================================================================\n",
            "Total params: 8633 (33.72 KB)\n",
            "Trainable params: 8633 (33.72 KB)\n",
            "Non-trainable params: 0 (0.00 Byte)\n",
            "_________________________________________________________________\n"
          ]
        }
      ]
    },
    {
      "cell_type": "markdown",
      "source": [
        "GRU 층의 모델 파라미터 개수를 계산 <br>\n",
        "GRU에는 3개의 작은 셀이 존재한다. 작은 셀에는 입력과 은닉 상태에 곱하는 가중치와 절편이 있다. <br>\n",
        "입력에 곱하는 가중치는 16 * 8 = 128개이고, 은닉 상태에 곱하는 가중치는 8 * 8 = 64개이다. 그리고 절편은 8개이다. 128 + 64 + 8 = 200개이다. 이 셀이 총 3개 있기 때문에, 600개의 모델 파라미터가 필요하다. <br>\n",
        "*노션 설명 참고*\n"
      ],
      "metadata": {
        "id": "s1dHhI14F34g"
      }
    },
    {
      "cell_type": "code",
      "source": [
        "#모델 컴파일 및 훈련\n",
        "rmsprop = keras.optimizers.RMSprop(learning_rate=1e-4)\n",
        "model4.compile(optimizer=rmsprop, loss='binary_crossentropy', metrics=['accuracy'])\n",
        "checkpoint_cb = keras.callbacks.ModelCheckpoint('best-gru-model.h5', save_best_only=True)\n",
        "early_stopping_cb = keras.callbacks.EarlyStopping(patience=3, restore_best_weights=True)\n",
        "history = model4.fit(train_seq, train_target, epochs=100, batch_size=64, validation_data=(val_seq, val_target), callbacks=[checkpoint_cb, early_stopping_cb])"
      ],
      "metadata": {
        "colab": {
          "base_uri": "https://localhost:8080/"
        },
        "id": "kbKrwUbsHrtk",
        "outputId": "be5f6733-ef60-4771-c3e9-696838077b81"
      },
      "execution_count": 16,
      "outputs": [
        {
          "output_type": "stream",
          "name": "stdout",
          "text": [
            "Epoch 1/100\n",
            "313/313 [==============================] - 16s 46ms/step - loss: 0.6927 - accuracy: 0.5211 - val_loss: 0.6919 - val_accuracy: 0.5512\n",
            "Epoch 2/100\n",
            "  5/313 [..............................] - ETA: 11s - loss: 0.6927 - accuracy: 0.5094"
          ]
        },
        {
          "output_type": "stream",
          "name": "stderr",
          "text": [
            "/usr/local/lib/python3.10/dist-packages/keras/src/engine/training.py:3103: UserWarning: You are saving your model as an HDF5 file via `model.save()`. This file format is considered legacy. We recommend using instead the native Keras format, e.g. `model.save('my_model.keras')`.\n",
            "  saving_api.save_model(\n"
          ]
        },
        {
          "output_type": "stream",
          "name": "stdout",
          "text": [
            "313/313 [==============================] - 13s 42ms/step - loss: 0.6910 - accuracy: 0.5604 - val_loss: 0.6902 - val_accuracy: 0.5678\n",
            "Epoch 3/100\n",
            "313/313 [==============================] - 14s 44ms/step - loss: 0.6888 - accuracy: 0.5744 - val_loss: 0.6878 - val_accuracy: 0.5738\n",
            "Epoch 4/100\n",
            "313/313 [==============================] - 14s 44ms/step - loss: 0.6855 - accuracy: 0.5907 - val_loss: 0.6840 - val_accuracy: 0.5884\n",
            "Epoch 5/100\n",
            "313/313 [==============================] - 14s 44ms/step - loss: 0.6806 - accuracy: 0.5992 - val_loss: 0.6790 - val_accuracy: 0.5982\n",
            "Epoch 6/100\n",
            "313/313 [==============================] - 13s 42ms/step - loss: 0.6738 - accuracy: 0.6158 - val_loss: 0.6714 - val_accuracy: 0.6086\n",
            "Epoch 7/100\n",
            "313/313 [==============================] - 13s 42ms/step - loss: 0.6640 - accuracy: 0.6269 - val_loss: 0.6610 - val_accuracy: 0.6192\n",
            "Epoch 8/100\n",
            "313/313 [==============================] - 13s 43ms/step - loss: 0.6504 - accuracy: 0.6385 - val_loss: 0.6469 - val_accuracy: 0.6312\n",
            "Epoch 9/100\n",
            "313/313 [==============================] - 13s 43ms/step - loss: 0.6313 - accuracy: 0.6546 - val_loss: 0.6265 - val_accuracy: 0.6580\n",
            "Epoch 10/100\n",
            "313/313 [==============================] - 13s 43ms/step - loss: 0.6029 - accuracy: 0.6780 - val_loss: 0.5945 - val_accuracy: 0.6864\n",
            "Epoch 11/100\n",
            "313/313 [==============================] - 13s 43ms/step - loss: 0.5584 - accuracy: 0.7131 - val_loss: 0.5491 - val_accuracy: 0.7268\n",
            "Epoch 12/100\n",
            "313/313 [==============================] - 13s 43ms/step - loss: 0.5225 - accuracy: 0.7441 - val_loss: 0.5252 - val_accuracy: 0.7430\n",
            "Epoch 13/100\n",
            "313/313 [==============================] - 14s 45ms/step - loss: 0.5055 - accuracy: 0.7562 - val_loss: 0.5141 - val_accuracy: 0.7486\n",
            "Epoch 14/100\n",
            "313/313 [==============================] - 13s 43ms/step - loss: 0.4938 - accuracy: 0.7642 - val_loss: 0.5024 - val_accuracy: 0.7604\n",
            "Epoch 15/100\n",
            "313/313 [==============================] - 13s 42ms/step - loss: 0.4835 - accuracy: 0.7721 - val_loss: 0.4940 - val_accuracy: 0.7648\n",
            "Epoch 16/100\n",
            "313/313 [==============================] - 13s 43ms/step - loss: 0.4748 - accuracy: 0.7757 - val_loss: 0.4890 - val_accuracy: 0.7668\n",
            "Epoch 17/100\n",
            "313/313 [==============================] - 13s 43ms/step - loss: 0.4680 - accuracy: 0.7811 - val_loss: 0.4808 - val_accuracy: 0.7746\n",
            "Epoch 18/100\n",
            "313/313 [==============================] - 14s 45ms/step - loss: 0.4612 - accuracy: 0.7850 - val_loss: 0.4800 - val_accuracy: 0.7804\n",
            "Epoch 19/100\n",
            "313/313 [==============================] - 14s 45ms/step - loss: 0.4563 - accuracy: 0.7899 - val_loss: 0.4698 - val_accuracy: 0.7800\n",
            "Epoch 20/100\n",
            "313/313 [==============================] - 17s 55ms/step - loss: 0.4504 - accuracy: 0.7928 - val_loss: 0.4654 - val_accuracy: 0.7810\n",
            "Epoch 21/100\n",
            "313/313 [==============================] - 13s 42ms/step - loss: 0.4460 - accuracy: 0.7950 - val_loss: 0.4622 - val_accuracy: 0.7786\n",
            "Epoch 22/100\n",
            "313/313 [==============================] - 13s 43ms/step - loss: 0.4421 - accuracy: 0.7962 - val_loss: 0.4625 - val_accuracy: 0.7818\n",
            "Epoch 23/100\n",
            "313/313 [==============================] - 13s 43ms/step - loss: 0.4390 - accuracy: 0.8008 - val_loss: 0.4589 - val_accuracy: 0.7878\n",
            "Epoch 24/100\n",
            "313/313 [==============================] - 14s 45ms/step - loss: 0.4356 - accuracy: 0.8034 - val_loss: 0.4557 - val_accuracy: 0.7848\n",
            "Epoch 25/100\n",
            "313/313 [==============================] - 13s 42ms/step - loss: 0.4335 - accuracy: 0.8041 - val_loss: 0.4528 - val_accuracy: 0.7864\n",
            "Epoch 26/100\n",
            "313/313 [==============================] - 13s 43ms/step - loss: 0.4309 - accuracy: 0.8059 - val_loss: 0.4506 - val_accuracy: 0.7880\n",
            "Epoch 27/100\n",
            "313/313 [==============================] - 14s 45ms/step - loss: 0.4289 - accuracy: 0.8069 - val_loss: 0.4496 - val_accuracy: 0.7926\n",
            "Epoch 28/100\n",
            "313/313 [==============================] - 14s 44ms/step - loss: 0.4272 - accuracy: 0.8069 - val_loss: 0.4486 - val_accuracy: 0.7940\n",
            "Epoch 29/100\n",
            "313/313 [==============================] - 14s 45ms/step - loss: 0.4254 - accuracy: 0.8088 - val_loss: 0.4546 - val_accuracy: 0.7912\n",
            "Epoch 30/100\n",
            "313/313 [==============================] - 13s 43ms/step - loss: 0.4244 - accuracy: 0.8092 - val_loss: 0.4470 - val_accuracy: 0.7940\n",
            "Epoch 31/100\n",
            "313/313 [==============================] - 14s 43ms/step - loss: 0.4225 - accuracy: 0.8095 - val_loss: 0.4459 - val_accuracy: 0.7942\n",
            "Epoch 32/100\n",
            "313/313 [==============================] - 15s 48ms/step - loss: 0.4213 - accuracy: 0.8101 - val_loss: 0.4455 - val_accuracy: 0.7904\n",
            "Epoch 33/100\n",
            "313/313 [==============================] - 14s 43ms/step - loss: 0.4207 - accuracy: 0.8120 - val_loss: 0.4497 - val_accuracy: 0.7884\n",
            "Epoch 34/100\n",
            "313/313 [==============================] - 13s 43ms/step - loss: 0.4198 - accuracy: 0.8124 - val_loss: 0.4448 - val_accuracy: 0.7926\n",
            "Epoch 35/100\n",
            "313/313 [==============================] - 14s 45ms/step - loss: 0.4191 - accuracy: 0.8120 - val_loss: 0.4467 - val_accuracy: 0.7960\n",
            "Epoch 36/100\n",
            "313/313 [==============================] - 14s 45ms/step - loss: 0.4187 - accuracy: 0.8140 - val_loss: 0.4450 - val_accuracy: 0.7958\n",
            "Epoch 37/100\n",
            "313/313 [==============================] - 14s 44ms/step - loss: 0.4176 - accuracy: 0.8136 - val_loss: 0.4428 - val_accuracy: 0.7944\n",
            "Epoch 38/100\n",
            "313/313 [==============================] - 14s 43ms/step - loss: 0.4171 - accuracy: 0.8141 - val_loss: 0.4475 - val_accuracy: 0.7938\n",
            "Epoch 39/100\n",
            "313/313 [==============================] - 13s 42ms/step - loss: 0.4165 - accuracy: 0.8134 - val_loss: 0.4423 - val_accuracy: 0.7944\n",
            "Epoch 40/100\n",
            "313/313 [==============================] - 13s 42ms/step - loss: 0.4161 - accuracy: 0.8138 - val_loss: 0.4440 - val_accuracy: 0.7886\n",
            "Epoch 41/100\n",
            "313/313 [==============================] - 13s 43ms/step - loss: 0.4161 - accuracy: 0.8134 - val_loss: 0.4443 - val_accuracy: 0.7892\n",
            "Epoch 42/100\n",
            "313/313 [==============================] - 13s 43ms/step - loss: 0.4155 - accuracy: 0.8147 - val_loss: 0.4420 - val_accuracy: 0.7948\n",
            "Epoch 43/100\n",
            "313/313 [==============================] - 13s 43ms/step - loss: 0.4151 - accuracy: 0.8145 - val_loss: 0.4452 - val_accuracy: 0.7934\n",
            "Epoch 44/100\n",
            "313/313 [==============================] - 13s 43ms/step - loss: 0.4147 - accuracy: 0.8149 - val_loss: 0.4412 - val_accuracy: 0.7958\n",
            "Epoch 45/100\n",
            "313/313 [==============================] - 13s 43ms/step - loss: 0.4139 - accuracy: 0.8159 - val_loss: 0.4405 - val_accuracy: 0.7974\n",
            "Epoch 46/100\n",
            "313/313 [==============================] - 14s 43ms/step - loss: 0.4141 - accuracy: 0.8146 - val_loss: 0.4403 - val_accuracy: 0.7970\n",
            "Epoch 47/100\n",
            "313/313 [==============================] - 13s 43ms/step - loss: 0.4137 - accuracy: 0.8149 - val_loss: 0.4409 - val_accuracy: 0.7914\n",
            "Epoch 48/100\n",
            "313/313 [==============================] - 14s 45ms/step - loss: 0.4134 - accuracy: 0.8141 - val_loss: 0.4400 - val_accuracy: 0.7962\n",
            "Epoch 49/100\n",
            "313/313 [==============================] - 13s 43ms/step - loss: 0.4131 - accuracy: 0.8162 - val_loss: 0.4391 - val_accuracy: 0.7964\n",
            "Epoch 50/100\n",
            "313/313 [==============================] - 14s 45ms/step - loss: 0.4128 - accuracy: 0.8156 - val_loss: 0.4404 - val_accuracy: 0.7926\n",
            "Epoch 51/100\n",
            "313/313 [==============================] - 14s 45ms/step - loss: 0.4128 - accuracy: 0.8152 - val_loss: 0.4400 - val_accuracy: 0.7940\n",
            "Epoch 52/100\n",
            "313/313 [==============================] - 13s 43ms/step - loss: 0.4127 - accuracy: 0.8163 - val_loss: 0.4415 - val_accuracy: 0.7964\n"
          ]
        }
      ]
    },
    {
      "cell_type": "code",
      "source": [
        "plt.plot(history.history['loss'])\n",
        "plt.plot(history.history['val_loss'])\n",
        "plt.xlabel('epoch')\n",
        "plt.ylabel('loss')\n",
        "plt.legend(['train', 'val'])\n",
        "plt.show()"
      ],
      "metadata": {
        "colab": {
          "base_uri": "https://localhost:8080/",
          "height": 449
        },
        "id": "y1I8MOyoH0l9",
        "outputId": "1296fdc9-12ae-473c-a2ef-ce5e8af86005"
      },
      "execution_count": 17,
      "outputs": [
        {
          "output_type": "display_data",
          "data": {
            "text/plain": [
              "<Figure size 640x480 with 1 Axes>"
            ],
            "image/png": "[encoded data removed]"
          },
          "metadata": {}
        }
      ]
    }
  ]
}