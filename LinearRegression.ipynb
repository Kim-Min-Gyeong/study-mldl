{
  "nbformat": 4,
  "nbformat_minor": 0,
  "metadata": {
    "colab": {
      "provenance": [],
      "authorship_tag": "ABX9TyM/U24ld8uLhUVkQpwGmFvb",
      "include_colab_link": true
    },
    "kernelspec": {
      "name": "python3",
      "display_name": "Python 3"
    },
    "language_info": {
      "name": "python"
    }
  },
  "cells": [
    {
      "cell_type": "markdown",
      "metadata": {
        "id": "view-in-github",
        "colab_type": "text"
      },
      "source": [
        "<a href=\"https://colab.research.google.com/github/Kim-Min-Gyeong/study-mldl/blob/main/LinearRegression.ipynb\" target=\"_parent\"><img src=\"https://colab.research.google.com/assets/colab-badge.svg\" alt=\"Open In Colab\"/></a>"
      ]
    },
    {
      "cell_type": "markdown",
      "source": [
        "**선형 회귀 알고리즘을 이용하여 훈련 세트 범위 밖의 샘플을 예측할 수 있도록 하자!**"
      ],
      "metadata": {
        "id": "gRuaPHylQbtN"
      }
    },
    {
      "cell_type": "markdown",
      "source": [
        "**데이터 준비**"
      ],
      "metadata": {
        "id": "A2Opt-ft7x6Q"
      }
    },
    {
      "cell_type": "code",
      "execution_count": 13,
      "metadata": {
        "id": "OQr5e2q57sH9"
      },
      "outputs": [],
      "source": [
        "import numpy as np\n",
        "\n",
        "perch_length = np.array([8.4, 13.7, 15.0, 16.2, 17.4, 18.0, 18.7, 19.0, 19.6, 20.0, 21.0,\n",
        "       21.0, 21.0, 21.3, 22.0, 22.0, 22.0, 22.0, 22.0, 22.5, 22.5, 22.7,\n",
        "       23.0, 23.5, 24.0, 24.0, 24.6, 25.0, 25.6, 26.5, 27.3, 27.5, 27.5,\n",
        "       27.5, 28.0, 28.7, 30.0, 32.8, 34.5, 35.0, 36.5, 36.0, 37.0, 37.0,\n",
        "       39.0, 39.0, 39.0, 40.0, 40.0, 40.0, 40.0, 42.0, 43.0, 43.0, 43.5,\n",
        "       44.0])\n",
        "perch_weight = np.array([5.9, 32.0, 40.0, 51.5, 70.0, 100.0, 78.0, 80.0, 85.0, 85.0, 110.0,\n",
        "       115.0, 125.0, 130.0, 120.0, 120.0, 130.0, 135.0, 110.0, 130.0,\n",
        "       150.0, 145.0, 150.0, 170.0, 225.0, 145.0, 188.0, 180.0, 197.0,\n",
        "       218.0, 300.0, 260.0, 265.0, 250.0, 250.0, 300.0, 320.0, 514.0,\n",
        "       556.0, 840.0, 685.0, 700.0, 700.0, 690.0, 900.0, 650.0, 820.0,\n",
        "       850.0, 900.0, 1015.0, 820.0, 1100.0, 1000.0, 1100.0, 1000.0,\n",
        "       1000.0])"
      ]
    },
    {
      "cell_type": "code",
      "source": [
        "from sklearn.model_selection import train_test_split\n",
        "\n",
        "train_input, test_input, train_target, test_target = train_test_split(perch_length, perch_weight)\n",
        "\n",
        "train_input = train_input.reshape(-1, 1) #2차원 배열로 변경\n",
        "test_input = test_input.reshape(-1, 1)\n",
        "\n"
      ],
      "metadata": {
        "id": "UVEH05GA72sk"
      },
      "execution_count": 14,
      "outputs": []
    },
    {
      "cell_type": "markdown",
      "source": [
        "**선형회귀**"
      ],
      "metadata": {
        "id": "JhpBzMNs8h88"
      }
    },
    {
      "cell_type": "code",
      "source": [
        "from sklearn.linear_model import LinearRegression\n",
        "\n",
        "lr = LinearRegression()\n",
        "\n",
        "lr.fit(train_input, train_target)\n",
        "\n",
        "#50cm 농어에 대해 예측\n",
        "print(lr.predict([[50]]))\n"
      ],
      "metadata": {
        "colab": {
          "base_uri": "https://localhost:8080/"
        },
        "id": "0kPEyayg8kGJ",
        "outputId": "e8bad036-b196-4c52-ba24-0f402ca0fc5d"
      },
      "execution_count": 15,
      "outputs": [
        {
          "output_type": "stream",
          "name": "stdout",
          "text": [
            "[1173.94650537]\n"
          ]
        }
      ]
    },
    {
      "cell_type": "markdown",
      "source": [
        "y=ax+b에서 x는 농어의 길이, y를 농어의 무게로 놓는다. <br>\n",
        "LinearRegression 클래스가 이 데이터에 가장 잘 맞는 a, b를 coef_, intercept_ 속성에 저장되어 있다."
      ],
      "metadata": {
        "id": "Kl7gl82J9qtu"
      }
    },
    {
      "cell_type": "code",
      "source": [
        "print(lr.coef_, lr.intercept_)"
      ],
      "metadata": {
        "colab": {
          "base_uri": "https://localhost:8080/"
        },
        "id": "9ERsBG-n-Bb4",
        "outputId": "a2adb89f-607e-43dd-c63d-8d67eaeb4a3a"
      },
      "execution_count": 16,
      "outputs": [
        {
          "output_type": "stream",
          "name": "stdout",
          "text": [
            "[36.01807875] -626.957432150881\n"
          ]
        }
      ]
    },
    {
      "cell_type": "markdown",
      "source": [
        "coef_는 coefficient에서 온 것으로, 기울기를 종종 계수 혹은 가중치(weight)라고 한다.\n"
      ],
      "metadata": {
        "id": "AIwzVdxe-MhL"
      }
    },
    {
      "cell_type": "code",
      "source": [
        "import matplotlib.pyplot as plt\n",
        "\n",
        "plt.scatter(train_input, train_target)\n",
        "\n",
        "#농어의 길이가 15에서 50까지 직선 그리기\n",
        "plt.plot([15, 50], [15*lr.coef_+lr.intercept_, 50*lr.coef_+lr.intercept_])\n",
        "\n",
        "#50cm 농어 데이터\n",
        "plt.scatter(50, 1173.9, marker='^')\n",
        "plt.xlabel('length')\n",
        "plt.ylabel('weight')\n",
        "plt.show()\n",
        "\n"
      ],
      "metadata": {
        "colab": {
          "base_uri": "https://localhost:8080/",
          "height": 449
        },
        "id": "wBb4DwrK_TFt",
        "outputId": "38828501-3d34-4bc3-834d-777a00c9d722"
      },
      "execution_count": 17,
      "outputs": [
        {
          "output_type": "display_data",
          "data": {
            "text/plain": [
              "<Figure size 640x480 with 1 Axes>"
            ],
            "image/png": "[encoded data removed]"
          },
          "metadata": {}
        }
      ]
    },
    {
      "cell_type": "markdown",
      "source": [
        "위 직선이 선형 회귀 알고리즘이 이 데이터 셋에서 찾은 최적의 직선이다.\n"
      ],
      "metadata": {
        "id": "LtoVkULjAJXk"
      }
    },
    {
      "cell_type": "code",
      "source": [
        "print(lr.score(train_input, train_target))\n",
        "print(lr.score(test_input, test_target))\n"
      ],
      "metadata": {
        "colab": {
          "base_uri": "https://localhost:8080/"
        },
        "id": "BDLNCMz4ATec",
        "outputId": "ddd2696c-e6f1-4406-8e77-4883d76c4710"
      },
      "execution_count": 18,
      "outputs": [
        {
          "output_type": "stream",
          "name": "stdout",
          "text": [
            "0.9215227719587541\n",
            "0.8979027524243184\n"
          ]
        }
      ]
    },
    {
      "cell_type": "markdown",
      "source": [
        "2차 방정식을 그리기 위한 데이터 준비"
      ],
      "metadata": {
        "id": "6VcJjwDhCOLi"
      }
    },
    {
      "cell_type": "code",
      "source": [
        "train_poly = np.column_stack((train_input**2, train_input))\n",
        "test_poly = np.column_stack((test_input**2, test_input))\n",
        "\n",
        "print(train_poly.shape, test_poly.shape)"
      ],
      "metadata": {
        "colab": {
          "base_uri": "https://localhost:8080/"
        },
        "id": "pwBXjJUnCNof",
        "outputId": "9e56d7eb-0fea-47ea-b27b-5f1ae3842ab5"
      },
      "execution_count": 19,
      "outputs": [
        {
          "output_type": "stream",
          "name": "stdout",
          "text": [
            "(42, 2) (14, 2)\n"
          ]
        }
      ]
    },
    {
      "cell_type": "code",
      "source": [
        "lr = LinearRegression()\n",
        "\n",
        "lr.fit(train_poly, train_target)\n",
        "\n",
        "print(lr.predict([[50**2, 50]])) #입력 데이터를 제곱해준것처럼 이 값도 제곱해야 함\n",
        "\n",
        "print(lr.coef_, lr.intercept_)\n"
      ],
      "metadata": {
        "colab": {
          "base_uri": "https://localhost:8080/"
        },
        "id": "CES7OuTFMkn2",
        "outputId": "696b51b3-c509-4520-c2f0-732bf5e84105"
      },
      "execution_count": 20,
      "outputs": [
        {
          "output_type": "stream",
          "name": "stdout",
          "text": [
            "[1531.4230521]\n",
            "[  1.02030616 -23.41845838] 151.58058320821664\n"
          ]
        }
      ]
    },
    {
      "cell_type": "markdown",
      "source": [
        "무게 = 1.02 * length^2 - 23.4 * length + 151.58"
      ],
      "metadata": {
        "id": "3fgMeXyGNNVy"
      }
    },
    {
      "cell_type": "markdown",
      "source": [
        "**산점도 그리기**"
      ],
      "metadata": {
        "id": "qJXeFXi4Ntk9"
      }
    },
    {
      "cell_type": "code",
      "source": [
        "#1부터 49까지 정수 배열 생성\n",
        "point = np.arange(15, 50)\n",
        "\n",
        "plt.scatter(train_input, train_target)\n",
        "\n",
        "plt.plot(point, 1.02 * point**2 - 23.4 * point + 151.38)\n",
        "\n",
        "plt.scatter(50, 1173, marker='^')\n",
        "plt.xlabel('length')\n",
        "plt.ylabel('weight')\n",
        "plt.show()\n"
      ],
      "metadata": {
        "colab": {
          "base_uri": "https://localhost:8080/",
          "height": 449
        },
        "id": "sVMYNiGQNwTh",
        "outputId": "b7991fef-1032-43f6-a159-9eb166e38e49"
      },
      "execution_count": 23,
      "outputs": [
        {
          "output_type": "display_data",
          "data": {
            "text/plain": [
              "<Figure size 640x480 with 1 Axes>"
            ],
            "image/png": "[encoded data removed]"
          },
          "metadata": {}
        }
      ]
    },
    {
      "cell_type": "markdown",
      "source": [
        "**훈련 세트와 테스트 세트의 R^2 점수 산출**"
      ],
      "metadata": {
        "id": "SBiG8slKPuj9"
      }
    },
    {
      "cell_type": "code",
      "source": [
        "print(lr.score(train_poly, train_target))\n",
        "print(lr.score(test_poly, test_target))\n",
        "\n"
      ],
      "metadata": {
        "colab": {
          "base_uri": "https://localhost:8080/"
        },
        "id": "mlo5GANWP0_-",
        "outputId": "f9141a40-406f-4d0b-d2ac-40f5cfc3fbd9"
      },
      "execution_count": 24,
      "outputs": [
        {
          "output_type": "stream",
          "name": "stdout",
          "text": [
            "0.9888044969849951\n",
            "0.9165109635620643\n"
          ]
        }
      ]
    }
  ]
}