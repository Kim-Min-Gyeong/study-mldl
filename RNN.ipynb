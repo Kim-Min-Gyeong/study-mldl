{
  "nbformat": 4,
  "nbformat_minor": 0,
  "metadata": {
    "colab": {
      "provenance": [],
      "authorship_tag": "ABX9TyNwq/rXb/DZmMgynrzT4x4F",
      "include_colab_link": true
    },
    "kernelspec": {
      "name": "python3",
      "display_name": "Python 3"
    },
    "language_info": {
      "name": "python"
    }
  },
  "cells": [
    {
      "cell_type": "markdown",
      "metadata": {
        "id": "view-in-github",
        "colab_type": "text"
      },
      "source": [
        "<a href=\"https://colab.research.google.com/github/Kim-Min-Gyeong/study-mldl/blob/main/RNN.ipynb\" target=\"_parent\"><img src=\"https://colab.research.google.com/assets/colab-badge.svg\" alt=\"Open In Colab\"/></a>"
      ]
    },
    {
      "cell_type": "markdown",
      "source": [
        "IMDB 리뷰 데이터 준비"
      ],
      "metadata": {
        "id": "6UCPc5PV26R5"
      }
    },
    {
      "cell_type": "code",
      "execution_count": 6,
      "metadata": {
        "id": "cmhFfdGo23Vc"
      },
      "outputs": [],
      "source": [
        "from tensorflow.keras.datasets import imdb\n",
        "(train_input, train_target), (test_input, test_target) = imdb.load_data(num_words=300) #가장 자주 사용되는 300개의 단어 사용"
      ]
    },
    {
      "cell_type": "code",
      "source": [
        "print(train_input.shape, test_input.shape)"
      ],
      "metadata": {
        "colab": {
          "base_uri": "https://localhost:8080/"
        },
        "id": "JRia22tM3mD1",
        "outputId": "770a1885-724c-4381-afcd-035039558b27"
      },
      "execution_count": 8,
      "outputs": [
        {
          "output_type": "stream",
          "name": "stdout",
          "text": [
            "(25000,) (25000,)\n"
          ]
        }
      ]
    },
    {
      "cell_type": "code",
      "source": [
        "print(len(train_input[0])) #첫 번째 리뷰의 길이"
      ],
      "metadata": {
        "colab": {
          "base_uri": "https://localhost:8080/"
        },
        "id": "49ZSdYed3486",
        "outputId": "d2a5a312-dd2d-49eb-ad9b-7b9ccfd8ebc6"
      },
      "execution_count": 9,
      "outputs": [
        {
          "output_type": "stream",
          "name": "stdout",
          "text": [
            "218\n"
          ]
        }
      ]
    },
    {
      "cell_type": "code",
      "source": [
        "print(len(train_input[1])) #두 번째 리뷰의 길이"
      ],
      "metadata": {
        "colab": {
          "base_uri": "https://localhost:8080/"
        },
        "id": "xzAKJ7EN4AEF",
        "outputId": "26fb8aad-fd94-460b-f9df-9c82ad1cdb3a"
      },
      "execution_count": 10,
      "outputs": [
        {
          "output_type": "stream",
          "name": "stdout",
          "text": [
            "189\n"
          ]
        }
      ]
    },
    {
      "cell_type": "code",
      "source": [
        "print(train_input[0]) #첫 번째 리뷰의 내용"
      ],
      "metadata": {
        "colab": {
          "base_uri": "https://localhost:8080/"
        },
        "id": "NeOHd_r84FNl",
        "outputId": "f517b572-ce8b-48c8-eb6b-ce7aa42eb3ec"
      },
      "execution_count": 11,
      "outputs": [
        {
          "output_type": "stream",
          "name": "stdout",
          "text": [
            "[1, 14, 22, 16, 43, 2, 2, 2, 2, 65, 2, 2, 66, 2, 4, 173, 36, 256, 5, 25, 100, 43, 2, 112, 50, 2, 2, 9, 35, 2, 284, 5, 150, 4, 172, 112, 167, 2, 2, 2, 39, 4, 172, 2, 2, 17, 2, 38, 13, 2, 4, 192, 50, 16, 6, 147, 2, 19, 14, 22, 4, 2, 2, 2, 4, 22, 71, 87, 12, 16, 43, 2, 38, 76, 15, 13, 2, 4, 22, 17, 2, 17, 12, 16, 2, 18, 2, 5, 62, 2, 12, 8, 2, 8, 106, 5, 4, 2, 2, 16, 2, 66, 2, 33, 4, 130, 12, 16, 38, 2, 5, 25, 124, 51, 36, 135, 48, 25, 2, 33, 6, 22, 12, 215, 28, 77, 52, 5, 14, 2, 16, 82, 2, 8, 4, 107, 117, 2, 15, 256, 4, 2, 7, 2, 5, 2, 36, 71, 43, 2, 2, 26, 2, 2, 46, 7, 4, 2, 2, 13, 104, 88, 4, 2, 15, 297, 98, 32, 2, 56, 26, 141, 6, 194, 2, 18, 4, 226, 22, 21, 134, 2, 26, 2, 5, 144, 30, 2, 18, 51, 36, 28, 224, 92, 25, 104, 4, 226, 65, 16, 38, 2, 88, 12, 16, 283, 5, 16, 2, 113, 103, 32, 15, 16, 2, 19, 178, 32]\n"
          ]
        }
      ]
    },
    {
      "cell_type": "markdown",
      "source": [
        "텐서플로에 있는 IMDB 리뷰 데이터는 이미 정수로 변환되어 있다."
      ],
      "metadata": {
        "id": "PQfLKZPW4LoQ"
      }
    },
    {
      "cell_type": "code",
      "source": [
        "print(train_target[:20]) #타깃 데이터 출력"
      ],
      "metadata": {
        "colab": {
          "base_uri": "https://localhost:8080/"
        },
        "id": "FF1rhE4J4cii",
        "outputId": "4f72271f-3ec4-406a-8692-b19ed60f0e1a"
      },
      "execution_count": 12,
      "outputs": [
        {
          "output_type": "stream",
          "name": "stdout",
          "text": [
            "[1 0 0 1 0 0 1 0 1 0 1 0 0 0 0 0 1 1 0 1]\n"
          ]
        }
      ]
    },
    {
      "cell_type": "markdown",
      "source": [
        "리뷰가 긍정(1)인지 부정(0)인지 나뉨."
      ],
      "metadata": {
        "id": "kRxnUGZt4jPF"
      }
    },
    {
      "cell_type": "code",
      "source": [
        "#훈련 세트에서 검증 세트를 분리\n",
        "from sklearn.model_selection import train_test_split\n",
        "train_input, val_input, train_target, val_target = train_test_split(train_input, train_target, test_size=0.2, random_state=42)"
      ],
      "metadata": {
        "id": "87F4c6W-4rTo"
      },
      "execution_count": 13,
      "outputs": []
    },
    {
      "cell_type": "code",
      "source": [
        "#각 리뷰의 길이를 계산해 넘파이 배열에 담는다.\n",
        "#평균적인 리뷰의 길이와 가장 길고 짧은 리뷰의 길이를 확인하려고\n",
        "import numpy as np\n",
        "lengths = np.array([len(x) for x in train_input])\n"
      ],
      "metadata": {
        "id": "yZyVhEaO5Aiq"
      },
      "execution_count": 14,
      "outputs": []
    },
    {
      "cell_type": "code",
      "source": [
        "print(np.mean(lengths), np.median(lengths))"
      ],
      "metadata": {
        "colab": {
          "base_uri": "https://localhost:8080/"
        },
        "id": "ehkmZqqn5TrV",
        "outputId": "6948e93f-9b37-4f8f-e1f5-818db2932823"
      },
      "execution_count": 15,
      "outputs": [
        {
          "output_type": "stream",
          "name": "stdout",
          "text": [
            "239.00925 178.0\n"
          ]
        }
      ]
    },
    {
      "cell_type": "markdown",
      "source": [
        "리뷰의 평균 단어 개수는 239개, 중간값은 178"
      ],
      "metadata": {
        "id": "cY6IRy6V5c6q"
      }
    },
    {
      "cell_type": "code",
      "source": [
        "import matplotlib.pyplot as plt\n",
        "plt.hist(lengths)\n",
        "plt.xlabel('length')\n",
        "plt.ylabel('frequency')\n",
        "plt.show()"
      ],
      "metadata": {
        "colab": {
          "base_uri": "https://localhost:8080/",
          "height": 449
        },
        "id": "TmCSYLTK5kHR",
        "outputId": "7b2a5574-ec4a-42d4-f2f9-79ae456f6f52"
      },
      "execution_count": 16,
      "outputs": [
        {
          "output_type": "display_data",
          "data": {
            "text/plain": [
              "<Figure size 640x480 with 1 Axes>"
            ],
            "image/png": "[encoded data removed]"
          },
          "metadata": {}
        }
      ]
    },
    {
      "cell_type": "code",
      "source": [
        "#train_input의 길이를 100으로 맞추기\n",
        "from tensorflow.keras.preprocessing.sequence import pad_sequences\n",
        "train_seq = pad_sequences(train_input, maxlen=100)"
      ],
      "metadata": {
        "id": "3KqIxfs06E50"
      },
      "execution_count": 19,
      "outputs": []
    },
    {
      "cell_type": "markdown",
      "source": [
        "maxlen에 원하는 길이를 지정하면 이보다 긴 경우는 잘라내고 짧은 경우는 0으로 패딩"
      ],
      "metadata": {
        "id": "HjkUXBlw6XeB"
      }
    },
    {
      "cell_type": "code",
      "source": [
        "print(train_seq.shape)"
      ],
      "metadata": {
        "colab": {
          "base_uri": "https://localhost:8080/"
        },
        "id": "l7GeolyK6fC2",
        "outputId": "181602f7-3d70-4aef-cbad-96e49f20c7bb"
      },
      "execution_count": 20,
      "outputs": [
        {
          "output_type": "stream",
          "name": "stdout",
          "text": [
            "(20000, 100)\n"
          ]
        }
      ]
    },
    {
      "cell_type": "code",
      "source": [
        "print(train_seq[0])"
      ],
      "metadata": {
        "colab": {
          "base_uri": "https://localhost:8080/"
        },
        "id": "vwIzZrrD6o4M",
        "outputId": "f5635063-ddb3-46c5-9a08-65f76625b047"
      },
      "execution_count": 21,
      "outputs": [
        {
          "output_type": "stream",
          "name": "stdout",
          "text": [
            "[ 10   4  20   9   2   2   2   5  45   6   2   2  33 269   8   2 142   2\n",
            "   5   2  17  73  17 204   5   2  19  55   2   2  92  66 104  14  20  93\n",
            "  76   2 151  33   4  58  12 188   2 151  12 215  69 224 142  73 237   6\n",
            "   2   7   2   2 188   2 103  14  31  10  10   2   7   2   5   2  80  91\n",
            "   2  30   2  34  14  20 151  50  26 131  49   2  84  46  50  37  80  79\n",
            "   6   2  46   7  14  20  10  10   2 158]\n"
          ]
        }
      ]
    },
    {
      "cell_type": "markdown",
      "source": [
        "위 샘플의 앞뒤에 패딩값 0이 없는 것으로 보아 100보다는 길었을 것 같다."
      ],
      "metadata": {
        "id": "vwhF9RkD6uBB"
      }
    },
    {
      "cell_type": "code",
      "source": [
        "print(train_input[0][-10:]) #원본 샘플의 끝을 확인"
      ],
      "metadata": {
        "colab": {
          "base_uri": "https://localhost:8080/"
        },
        "id": "HQnvBYZR6zHJ",
        "outputId": "492635a3-cb82-4a96-acac-fffe51c0ae66"
      },
      "execution_count": 23,
      "outputs": [
        {
          "output_type": "stream",
          "name": "stdout",
          "text": [
            "[6, 2, 46, 7, 14, 20, 10, 10, 2, 158]\n"
          ]
        }
      ]
    },
    {
      "cell_type": "markdown",
      "source": [
        "동일한 것으로 보아 앞부분이 잘린 것을 확인할 수 있다. <br>\n",
        "pad_sequences() 함수는 기본으로 maxlen보다 긴 시퀀스의 앞부분을 자른다. <br>\n",
        "뒷부분을 자르고 싶으면 truncating 매개변수의 값을 post로 바꾸면 된다."
      ],
      "metadata": {
        "id": "lHcKs1aa69Zq"
      }
    },
    {
      "cell_type": "code",
      "source": [
        "print(train_seq[5]) #6번째 샘플을 출력"
      ],
      "metadata": {
        "colab": {
          "base_uri": "https://localhost:8080/"
        },
        "id": "kUehGm2w7RHv",
        "outputId": "11f0fe0d-cde7-4f74-fe00-4fd710832e10"
      },
      "execution_count": 24,
      "outputs": [
        {
          "output_type": "stream",
          "name": "stdout",
          "text": [
            "[  0   0   0   0   1   2 195  19  49   2   2 190   4   2   2   2 183  10\n",
            "  10  13  82  79   4   2  36  71 269   8   2  25  19  49   7   4   2   2\n",
            "   2   2   2  10  10  48  25  40   2  11   2   2  40   2   2   5   4   2\n",
            "   2  95  14 238  56 129   2  10  10  21   2  94   2   2   2   2  11 190\n",
            "  24   2   2   7  94 205   2  10  10  87   2  34  49   2   7   2   2   2\n",
            "   2   2 290   2  46  48  64  18   4   2]\n"
          ]
        }
      ]
    },
    {
      "cell_type": "markdown",
      "source": [
        "앞 부분에 0이 있는 것으로 보아 이 샘플의 길이는 100이 안되겠다. <br>\n",
        "같은 이유로 패딩 토큰은 앞부분에 추가된다. <br>\n",
        "뒷 부분에 추가하고 싶으면 padding 매개변수를 post로 바꾸면 된다."
      ],
      "metadata": {
        "id": "_ugyFvBf7Xfz"
      }
    },
    {
      "cell_type": "code",
      "source": [
        "val_seq = pad_sequences(val_input, maxlen=100) #검증 세트의 길이도 100으로 맞춤"
      ],
      "metadata": {
        "id": "7zTgo-wY76c6"
      },
      "execution_count": 25,
      "outputs": []
    },
    {
      "cell_type": "markdown",
      "source": [
        "**순환 신경망 만들기**"
      ],
      "metadata": {
        "id": "G3X8Q8JM8HNe"
      }
    },
    {
      "cell_type": "code",
      "source": [
        "from tensorflow import keras\n",
        "model = keras.Sequential()\n",
        "model.add(keras.layers.SimpleRNN(8, input_shape=(100, 300))) #8개의 뉴런, 입력 차원은 (100, 300)->100은 샘플의 길이, 300은 원-핫 인코딩을 사용하기 위한 값으로, 훈련 데이터에 포함될 수 있는 정수 값의 범위는 0~299(처음에 300개의 단어만 사용하도록 지정해서) 활성화 함수는 기본값인 tanh\n",
        "model.add(keras.layers.Dense(1, activation='sigmoid'))"
      ],
      "metadata": {
        "id": "BR8q_Ajp8JNG"
      },
      "execution_count": 26,
      "outputs": []
    },
    {
      "cell_type": "markdown",
      "source": [
        "위처럼 수동으로 배열을 만들 필요 x, 원-핫 인코딩을 위한 유틸리티를 제공함."
      ],
      "metadata": {
        "id": "pp9KqD-69vqy"
      }
    },
    {
      "cell_type": "code",
      "source": [
        "train_oh = keras.utils.to_categorical(train_seq)"
      ],
      "metadata": {
        "id": "cKaMAJsw8nZD"
      },
      "execution_count": 27,
      "outputs": []
    },
    {
      "cell_type": "code",
      "source": [
        "print(train_oh.shape)"
      ],
      "metadata": {
        "colab": {
          "base_uri": "https://localhost:8080/"
        },
        "id": "Q694mxpN9_ye",
        "outputId": "8be99f81-f090-4ead-971b-c82457a00507"
      },
      "execution_count": 28,
      "outputs": [
        {
          "output_type": "stream",
          "name": "stdout",
          "text": [
            "(20000, 100, 300)\n"
          ]
        }
      ]
    },
    {
      "cell_type": "markdown",
      "source": [
        "정수 하나마다 모두 300차원읜 배열로 변경되어서 (2000, 100) 크기의 train_seq가 (2000, 100, 300) 크기의 train_oh로 생성됨."
      ],
      "metadata": {
        "id": "2VlRNk53-Dz1"
      }
    },
    {
      "cell_type": "code",
      "source": [
        "print(train_oh[0][0][:12]) #첫 번째 샘플의 첫 번째 토큰 10이 잘 인코딩 되었는지"
      ],
      "metadata": {
        "colab": {
          "base_uri": "https://localhost:8080/"
        },
        "id": "ksvgQKDx-TcT",
        "outputId": "ec101ee3-1de5-4883-c9ee-bec88b940da5"
      },
      "execution_count": 29,
      "outputs": [
        {
          "output_type": "stream",
          "name": "stdout",
          "text": [
            "[0. 0. 0. 0. 0. 0. 0. 0. 0. 0. 1. 0.]\n"
          ]
        }
      ]
    },
    {
      "cell_type": "code",
      "source": [
        "val_oh = keras.utils.to_categorical(val_seq) #검증 세트도 변경"
      ],
      "metadata": {
        "id": "6GvHuXGO-g5H"
      },
      "execution_count": 30,
      "outputs": []
    },
    {
      "cell_type": "code",
      "source": [
        "model.summary()"
      ],
      "metadata": {
        "colab": {
          "base_uri": "https://localhost:8080/"
        },
        "id": "M1oqNgTT-n3j",
        "outputId": "b0deb548-7245-40e0-d13f-f099fed73103"
      },
      "execution_count": 31,
      "outputs": [
        {
          "output_type": "stream",
          "name": "stdout",
          "text": [
            "Model: \"sequential\"\n",
            "_________________________________________________________________\n",
            " Layer (type)                Output Shape              Param #   \n",
            "=================================================================\n",
            " simple_rnn (SimpleRNN)      (None, 8)                 2472      \n",
            "                                                                 \n",
            " dense (Dense)               (None, 1)                 9         \n",
            "                                                                 \n",
            "=================================================================\n",
            "Total params: 2481 (9.69 KB)\n",
            "Trainable params: 2481 (9.69 KB)\n",
            "Non-trainable params: 0 (0.00 Byte)\n",
            "_________________________________________________________________\n"
          ]
        }
      ]
    },
    {
      "cell_type": "markdown",
      "source": [
        "이 순환층은 마지막 타임스텝의 은닉 상태만 출력하기 때문에, 출력 크기가 뉴런의 개수인 8과 동일하다. <br>\n",
        "입력 토큰은 300차원의 원-핫 인코딩 배열이다. 이 배열이 순환층의 뉴런 8개와 완전히 연결되기 때문에, 총 300*8=2400개의 가중치가 있다. <br>\n",
        "순환층의 은닉 상태는 다시 다음 타임스텝에 사용되기 위해 또 다른 가중치와 곱해진다. <br>\n",
        "이 은닉 상태도 순환층의 뉴런과 완전히 연결되기 대문에, 8(은닉 상태 크기) * 8(뉴런의 개수) = 64개의 가중치가 필요하다. <br>\n",
        "마지막으로 뉴런마다 하나의 절편이 있다. 그래서 총 2400 + 64 + 8 = 2472개의 모델 파라미터가 필요하다."
      ],
      "metadata": {
        "id": "6u9S0jDy-uZV"
      }
    },
    {
      "cell_type": "code",
      "source": [
        "#훈련하기\n",
        "\n",
        "#기본 RMSprop의 학습률 0.001을 사용하지 않기 위해 별도의 RMSprop 객체를 생성해 학습률을 0.0001로 지정\n",
        "rmsprop = keras.optimizers.RMSprop(learning_rate=1e-4)\n",
        "\n",
        "model.compile(optimizer=rmsprop, loss='binary_crossentropy', metrics=['accuracy'])\n",
        "checkpoint_cb = keras.callbacks.ModelCheckpoint('best-simplernn-model.h5', save_best_only=True)\n",
        "early_stopping_cb = keras.callbacks.EarlyStopping(patience=3, restore_best_weights=True)\n",
        "history = model.fit(train_oh, train_target, epochs=100, batch_size=64, validation_data=(val_oh, val_target), callbacks=[checkpoint_cb, early_stopping_cb])"
      ],
      "metadata": {
        "colab": {
          "base_uri": "https://localhost:8080/"
        },
        "id": "3TyyUMUv_5SK",
        "outputId": "eb7a30d7-f28d-48fc-c86a-d8f4335b5b83"
      },
      "execution_count": 32,
      "outputs": [
        {
          "output_type": "stream",
          "name": "stdout",
          "text": [
            "Epoch 1/100\n",
            "313/313 [==============================] - 18s 52ms/step - loss: 0.6969 - accuracy: 0.5120 - val_loss: 0.6945 - val_accuracy: 0.5140\n",
            "Epoch 2/100\n",
            "  3/313 [..............................] - ETA: 11s - loss: 0.7129 - accuracy: 0.4479"
          ]
        },
        {
          "output_type": "stream",
          "name": "stderr",
          "text": [
            "/usr/local/lib/python3.10/dist-packages/keras/src/engine/training.py:3103: UserWarning: You are saving your model as an HDF5 file via `model.save()`. This file format is considered legacy. We recommend using instead the native Keras format, e.g. `model.save('my_model.keras')`.\n",
            "  saving_api.save_model(\n"
          ]
        },
        {
          "output_type": "stream",
          "name": "stdout",
          "text": [
            "313/313 [==============================] - 24s 75ms/step - loss: 0.6906 - accuracy: 0.5253 - val_loss: 0.6897 - val_accuracy: 0.5240\n",
            "Epoch 3/100\n",
            "313/313 [==============================] - 21s 67ms/step - loss: 0.6832 - accuracy: 0.5563 - val_loss: 0.6808 - val_accuracy: 0.5670\n",
            "Epoch 4/100\n",
            "313/313 [==============================] - 23s 74ms/step - loss: 0.6654 - accuracy: 0.6002 - val_loss: 0.6639 - val_accuracy: 0.6054\n",
            "Epoch 5/100\n",
            "313/313 [==============================] - 22s 69ms/step - loss: 0.6469 - accuracy: 0.6330 - val_loss: 0.6501 - val_accuracy: 0.6250\n",
            "Epoch 6/100\n",
            "313/313 [==============================] - 15s 48ms/step - loss: 0.6319 - accuracy: 0.6538 - val_loss: 0.6401 - val_accuracy: 0.6378\n",
            "Epoch 7/100\n",
            "313/313 [==============================] - 15s 48ms/step - loss: 0.6191 - accuracy: 0.6709 - val_loss: 0.6239 - val_accuracy: 0.6620\n",
            "Epoch 8/100\n",
            "313/313 [==============================] - 15s 48ms/step - loss: 0.6074 - accuracy: 0.6829 - val_loss: 0.6138 - val_accuracy: 0.6688\n",
            "Epoch 9/100\n",
            "313/313 [==============================] - 12s 38ms/step - loss: 0.5969 - accuracy: 0.6935 - val_loss: 0.6043 - val_accuracy: 0.6788\n",
            "Epoch 10/100\n",
            "313/313 [==============================] - 12s 39ms/step - loss: 0.5875 - accuracy: 0.7014 - val_loss: 0.5975 - val_accuracy: 0.6864\n",
            "Epoch 11/100\n",
            "313/313 [==============================] - 13s 41ms/step - loss: 0.5785 - accuracy: 0.7114 - val_loss: 0.5867 - val_accuracy: 0.6980\n",
            "Epoch 12/100\n",
            "313/313 [==============================] - 13s 40ms/step - loss: 0.5705 - accuracy: 0.7202 - val_loss: 0.5792 - val_accuracy: 0.7048\n",
            "Epoch 13/100\n",
            "313/313 [==============================] - 12s 38ms/step - loss: 0.5644 - accuracy: 0.7240 - val_loss: 0.5743 - val_accuracy: 0.7116\n",
            "Epoch 14/100\n",
            "313/313 [==============================] - 12s 38ms/step - loss: 0.5580 - accuracy: 0.7293 - val_loss: 0.5676 - val_accuracy: 0.7172\n",
            "Epoch 15/100\n",
            "313/313 [==============================] - 11s 37ms/step - loss: 0.5529 - accuracy: 0.7322 - val_loss: 0.5616 - val_accuracy: 0.7216\n",
            "Epoch 16/100\n",
            "313/313 [==============================] - 15s 46ms/step - loss: 0.5475 - accuracy: 0.7384 - val_loss: 0.5572 - val_accuracy: 0.7224\n",
            "Epoch 17/100\n",
            "313/313 [==============================] - 12s 37ms/step - loss: 0.5428 - accuracy: 0.7390 - val_loss: 0.5527 - val_accuracy: 0.7278\n",
            "Epoch 18/100\n",
            "313/313 [==============================] - 12s 39ms/step - loss: 0.5386 - accuracy: 0.7414 - val_loss: 0.5510 - val_accuracy: 0.7296\n",
            "Epoch 19/100\n",
            "313/313 [==============================] - 11s 36ms/step - loss: 0.5348 - accuracy: 0.7447 - val_loss: 0.5469 - val_accuracy: 0.7332\n",
            "Epoch 20/100\n",
            "313/313 [==============================] - 13s 40ms/step - loss: 0.5317 - accuracy: 0.7463 - val_loss: 0.5438 - val_accuracy: 0.7358\n",
            "Epoch 21/100\n",
            "313/313 [==============================] - 12s 39ms/step - loss: 0.5279 - accuracy: 0.7512 - val_loss: 0.5415 - val_accuracy: 0.7350\n",
            "Epoch 22/100\n",
            "313/313 [==============================] - 12s 39ms/step - loss: 0.5252 - accuracy: 0.7526 - val_loss: 0.5381 - val_accuracy: 0.7378\n",
            "Epoch 23/100\n",
            "313/313 [==============================] - 11s 36ms/step - loss: 0.5229 - accuracy: 0.7533 - val_loss: 0.5374 - val_accuracy: 0.7402\n",
            "Epoch 24/100\n",
            "313/313 [==============================] - 11s 36ms/step - loss: 0.5204 - accuracy: 0.7544 - val_loss: 0.5434 - val_accuracy: 0.7334\n",
            "Epoch 25/100\n",
            "313/313 [==============================] - 12s 38ms/step - loss: 0.5185 - accuracy: 0.7564 - val_loss: 0.5332 - val_accuracy: 0.7422\n",
            "Epoch 26/100\n",
            "313/313 [==============================] - 12s 39ms/step - loss: 0.5153 - accuracy: 0.7582 - val_loss: 0.5315 - val_accuracy: 0.7442\n",
            "Epoch 27/100\n",
            "313/313 [==============================] - 18s 56ms/step - loss: 0.5140 - accuracy: 0.7598 - val_loss: 0.5312 - val_accuracy: 0.7438\n",
            "Epoch 28/100\n",
            "313/313 [==============================] - 13s 40ms/step - loss: 0.5113 - accuracy: 0.7613 - val_loss: 0.5311 - val_accuracy: 0.7448\n",
            "Epoch 29/100\n",
            "313/313 [==============================] - 16s 50ms/step - loss: 0.5098 - accuracy: 0.7621 - val_loss: 0.5283 - val_accuracy: 0.7462\n",
            "Epoch 30/100\n",
            "313/313 [==============================] - 21s 68ms/step - loss: 0.5082 - accuracy: 0.7621 - val_loss: 0.5301 - val_accuracy: 0.7422\n",
            "Epoch 31/100\n",
            "313/313 [==============================] - 16s 51ms/step - loss: 0.5070 - accuracy: 0.7635 - val_loss: 0.5252 - val_accuracy: 0.7480\n",
            "Epoch 32/100\n",
            "313/313 [==============================] - 12s 37ms/step - loss: 0.5049 - accuracy: 0.7641 - val_loss: 0.5244 - val_accuracy: 0.7512\n",
            "Epoch 33/100\n",
            "313/313 [==============================] - 12s 39ms/step - loss: 0.5041 - accuracy: 0.7639 - val_loss: 0.5221 - val_accuracy: 0.7458\n",
            "Epoch 34/100\n",
            "313/313 [==============================] - 12s 38ms/step - loss: 0.5026 - accuracy: 0.7645 - val_loss: 0.5242 - val_accuracy: 0.7468\n",
            "Epoch 35/100\n",
            "313/313 [==============================] - 11s 35ms/step - loss: 0.5014 - accuracy: 0.7670 - val_loss: 0.5208 - val_accuracy: 0.7472\n",
            "Epoch 36/100\n",
            "313/313 [==============================] - 11s 37ms/step - loss: 0.5000 - accuracy: 0.7675 - val_loss: 0.5201 - val_accuracy: 0.7486\n",
            "Epoch 37/100\n",
            "313/313 [==============================] - 12s 38ms/step - loss: 0.4996 - accuracy: 0.7672 - val_loss: 0.5210 - val_accuracy: 0.7474\n",
            "Epoch 38/100\n",
            "313/313 [==============================] - 12s 38ms/step - loss: 0.4984 - accuracy: 0.7685 - val_loss: 0.5188 - val_accuracy: 0.7486\n",
            "Epoch 39/100\n",
            "313/313 [==============================] - 12s 38ms/step - loss: 0.4973 - accuracy: 0.7688 - val_loss: 0.5214 - val_accuracy: 0.7486\n",
            "Epoch 40/100\n",
            "313/313 [==============================] - 12s 37ms/step - loss: 0.4966 - accuracy: 0.7711 - val_loss: 0.5208 - val_accuracy: 0.7488\n",
            "Epoch 41/100\n",
            "313/313 [==============================] - 12s 38ms/step - loss: 0.4953 - accuracy: 0.7706 - val_loss: 0.5166 - val_accuracy: 0.7512\n",
            "Epoch 42/100\n",
            "313/313 [==============================] - 12s 38ms/step - loss: 0.4946 - accuracy: 0.7714 - val_loss: 0.5191 - val_accuracy: 0.7492\n",
            "Epoch 43/100\n",
            "313/313 [==============================] - 12s 38ms/step - loss: 0.4934 - accuracy: 0.7733 - val_loss: 0.5164 - val_accuracy: 0.7508\n",
            "Epoch 44/100\n",
            "313/313 [==============================] - 12s 38ms/step - loss: 0.4932 - accuracy: 0.7713 - val_loss: 0.5152 - val_accuracy: 0.7514\n",
            "Epoch 45/100\n",
            "313/313 [==============================] - 13s 40ms/step - loss: 0.4918 - accuracy: 0.7726 - val_loss: 0.5145 - val_accuracy: 0.7528\n",
            "Epoch 46/100\n",
            "313/313 [==============================] - 13s 41ms/step - loss: 0.4908 - accuracy: 0.7748 - val_loss: 0.5159 - val_accuracy: 0.7502\n",
            "Epoch 47/100\n",
            "313/313 [==============================] - 12s 39ms/step - loss: 0.4905 - accuracy: 0.7734 - val_loss: 0.5140 - val_accuracy: 0.7526\n",
            "Epoch 48/100\n",
            "313/313 [==============================] - 12s 39ms/step - loss: 0.4904 - accuracy: 0.7725 - val_loss: 0.5134 - val_accuracy: 0.7528\n",
            "Epoch 49/100\n",
            "313/313 [==============================] - 11s 36ms/step - loss: 0.4888 - accuracy: 0.7746 - val_loss: 0.5121 - val_accuracy: 0.7540\n",
            "Epoch 50/100\n",
            "313/313 [==============================] - 19s 60ms/step - loss: 0.4879 - accuracy: 0.7759 - val_loss: 0.5121 - val_accuracy: 0.7550\n",
            "Epoch 51/100\n",
            "313/313 [==============================] - 22s 70ms/step - loss: 0.4877 - accuracy: 0.7765 - val_loss: 0.5125 - val_accuracy: 0.7540\n",
            "Epoch 52/100\n",
            "313/313 [==============================] - 22s 70ms/step - loss: 0.4863 - accuracy: 0.7781 - val_loss: 0.5144 - val_accuracy: 0.7494\n",
            "Epoch 53/100\n",
            "313/313 [==============================] - 20s 63ms/step - loss: 0.4865 - accuracy: 0.7757 - val_loss: 0.5107 - val_accuracy: 0.7566\n",
            "Epoch 54/100\n",
            "313/313 [==============================] - 15s 49ms/step - loss: 0.4857 - accuracy: 0.7764 - val_loss: 0.5175 - val_accuracy: 0.7478\n",
            "Epoch 55/100\n",
            "313/313 [==============================] - 15s 47ms/step - loss: 0.4849 - accuracy: 0.7772 - val_loss: 0.5116 - val_accuracy: 0.7568\n",
            "Epoch 56/100\n",
            "313/313 [==============================] - 14s 44ms/step - loss: 0.4843 - accuracy: 0.7779 - val_loss: 0.5107 - val_accuracy: 0.7582\n",
            "Epoch 57/100\n",
            "313/313 [==============================] - 16s 51ms/step - loss: 0.4838 - accuracy: 0.7782 - val_loss: 0.5118 - val_accuracy: 0.7546\n",
            "Epoch 58/100\n",
            "313/313 [==============================] - 20s 63ms/step - loss: 0.4828 - accuracy: 0.7782 - val_loss: 0.5103 - val_accuracy: 0.7544\n",
            "Epoch 59/100\n",
            "313/313 [==============================] - 13s 43ms/step - loss: 0.4828 - accuracy: 0.7757 - val_loss: 0.5099 - val_accuracy: 0.7548\n",
            "Epoch 60/100\n",
            "313/313 [==============================] - 14s 44ms/step - loss: 0.4820 - accuracy: 0.7781 - val_loss: 0.5095 - val_accuracy: 0.7554\n",
            "Epoch 61/100\n",
            "313/313 [==============================] - 15s 47ms/step - loss: 0.4809 - accuracy: 0.7782 - val_loss: 0.5125 - val_accuracy: 0.7532\n",
            "Epoch 62/100\n",
            "313/313 [==============================] - 16s 50ms/step - loss: 0.4806 - accuracy: 0.7776 - val_loss: 0.5110 - val_accuracy: 0.7566\n",
            "Epoch 63/100\n",
            "313/313 [==============================] - 12s 39ms/step - loss: 0.4798 - accuracy: 0.7803 - val_loss: 0.5103 - val_accuracy: 0.7530\n"
          ]
        }
      ]
    },
    {
      "cell_type": "code",
      "source": [
        "plt.plot(history.history['loss'])\n",
        "plt.plot(history.history['val_loss'])\n",
        "plt.xlabel('epoch')\n",
        "plt.ylabel('loss')\n",
        "plt.legend(['train', 'val'])\n",
        "plt.show()"
      ],
      "metadata": {
        "colab": {
          "base_uri": "https://localhost:8080/",
          "height": 449
        },
        "id": "S7lg03VJBOlm",
        "outputId": "770ccdbe-fc5e-49bc-f315-106a52dbf3f7"
      },
      "execution_count": 33,
      "outputs": [
        {
          "output_type": "display_data",
          "data": {
            "text/plain": [
              "<Figure size 640x480 with 1 Axes>"
            ],
            "image/png": "[encoded data removed]"
          },
          "metadata": {}
        }
      ]
    },
    {
      "cell_type": "markdown",
      "source": [
        "훈련 손실은 꾸준히 감소하고 있지만, 검증 손실은 대략 63번째 에포크에서 감소가 둔해지고 있다."
      ],
      "metadata": {
        "id": "zoBFGX2UBmEZ"
      }
    },
    {
      "cell_type": "markdown",
      "source": [
        "원-핫 인코딩으로 변환했기 때문에, 입력 데이터가 엄청 커진다."
      ],
      "metadata": {
        "id": "B7V0jF6OClhO"
      }
    },
    {
      "cell_type": "code",
      "source": [
        "print(train_seq.nbytes, train_oh.nbytes)"
      ],
      "metadata": {
        "colab": {
          "base_uri": "https://localhost:8080/"
        },
        "id": "LpVsqboPCtIh",
        "outputId": "0ae374c9-a6df-4bec-c2f9-1ac9fc867312"
      },
      "execution_count": 34,
      "outputs": [
        {
          "output_type": "stream",
          "name": "stdout",
          "text": [
            "8000000 2400000000\n"
          ]
        }
      ]
    },
    {
      "cell_type": "markdown",
      "source": [
        "토큰 1개를 300차원으로 늘려서, 대략 300배가 커진다."
      ],
      "metadata": {
        "id": "t6s2xEA3C0fD"
      }
    },
    {
      "cell_type": "markdown",
      "source": [
        "**단어 임베딩 사용하기**"
      ],
      "metadata": {
        "id": "1zxd_Z29Dt4l"
      }
    },
    {
      "cell_type": "code",
      "source": [
        "model2 = keras.Sequential()\n",
        "model2.add(keras.layers.Embedding(300, 16, input_length=100)) #SimpleRNN 층 앞에 Embedding 클래스를 추가, 300은 어휘 사전의 크기, 16은 임베딩 벡터의 크기, 100은 입력 시퀀스의 길이\n",
        "model2.add(keras.layers.SimpleRNN(8))\n",
        "model2.add(keras.layers.Dense(1, activation='sigmoid'))"
      ],
      "metadata": {
        "id": "au2wI9cdDwC2"
      },
      "execution_count": 35,
      "outputs": []
    },
    {
      "cell_type": "code",
      "source": [
        "model2.summary()"
      ],
      "metadata": {
        "colab": {
          "base_uri": "https://localhost:8080/"
        },
        "id": "07phQw0tER9-",
        "outputId": "70f7e3de-8c17-46be-8ba1-e1b610228551"
      },
      "execution_count": 36,
      "outputs": [
        {
          "output_type": "stream",
          "name": "stdout",
          "text": [
            "Model: \"sequential_1\"\n",
            "_________________________________________________________________\n",
            " Layer (type)                Output Shape              Param #   \n",
            "=================================================================\n",
            " embedding (Embedding)       (None, 100, 16)           4800      \n",
            "                                                                 \n",
            " simple_rnn_1 (SimpleRNN)    (None, 8)                 200       \n",
            "                                                                 \n",
            " dense_1 (Dense)             (None, 1)                 9         \n",
            "                                                                 \n",
            "=================================================================\n",
            "Total params: 5009 (19.57 KB)\n",
            "Trainable params: 5009 (19.57 KB)\n",
            "Non-trainable params: 0 (0.00 Byte)\n",
            "_________________________________________________________________\n"
          ]
        }
      ]
    },
    {
      "cell_type": "markdown",
      "source": [
        "임베딩 층은 (100, ) 크기의 입력을 받아 (100, 16) 크기의 출력을 만든다. <br>\n",
        "Embedding 클래스는 300개의 각 토큰을 크기가 16인 벡터로  만들기 때문에, 총 300 * 16 = 4800개의 모델 파라미터를 가진다. <br>\n",
        "SimpleRNN 층은 임베딩 벡터의 크기가 16이므로, 8개의 뉴런과 곱하기 위해 필요한 가중치 16 * 8 = 128개를 가진다. 그리고 은닉 상태에 곱해지는 가중치 8 * 8 = 64개가 있다. 그리고 8개의 절편이 있으므로 128 + 64 + 8 = 200개의 전체 모델 파라미터를 가진다. <br>\n",
        "마지막 Dense 층의 가중치 개수는 이전과 동일하게 9개이다."
      ],
      "metadata": {
        "id": "qAQZfOhbEWgx"
      }
    },
    {
      "cell_type": "code",
      "source": [
        "#훈련하기\n",
        "\n",
        "#기본 RMSprop의 학습률 0.001을 사용하지 않기 위해 별도의 RMSprop 객체를 생성해 학습률을 0.0001로 지정\n",
        "rmsprop = keras.optimizers.RMSprop(learning_rate=1e-4)\n",
        "\n",
        "model2.compile(optimizer=rmsprop, loss='binary_crossentropy', metrics=['accuracy'])\n",
        "checkpoint_cb = keras.callbacks.ModelCheckpoint('best-embedding-model.h5', save_best_only=True)\n",
        "early_stopping_cb = keras.callbacks.EarlyStopping(patience=3, restore_best_weights=True)\n",
        "history = model2.fit(train_seq, train_target, epochs=100, batch_size=64, validation_data=(val_seq, val_target), callbacks=[checkpoint_cb, early_stopping_cb])"
      ],
      "metadata": {
        "colab": {
          "base_uri": "https://localhost:8080/"
        },
        "id": "1XHvz9z3FwjU",
        "outputId": "cba2dc9d-045d-4bef-a630-5bf2bdc50451"
      },
      "execution_count": 38,
      "outputs": [
        {
          "output_type": "stream",
          "name": "stdout",
          "text": [
            "Epoch 1/100\n",
            "313/313 [==============================] - 11s 27ms/step - loss: 0.6971 - accuracy: 0.4994 - val_loss: 0.6930 - val_accuracy: 0.5202\n",
            "Epoch 2/100\n",
            "  4/313 [..............................] - ETA: 7s - loss: 0.6818 - accuracy: 0.5820"
          ]
        },
        {
          "output_type": "stream",
          "name": "stderr",
          "text": [
            "/usr/local/lib/python3.10/dist-packages/keras/src/engine/training.py:3103: UserWarning: You are saving your model as an HDF5 file via `model.save()`. This file format is considered legacy. We recommend using instead the native Keras format, e.g. `model.save('my_model.keras')`.\n",
            "  saving_api.save_model(\n"
          ]
        },
        {
          "output_type": "stream",
          "name": "stdout",
          "text": [
            "313/313 [==============================] - 9s 29ms/step - loss: 0.6918 - accuracy: 0.5207 - val_loss: 0.6904 - val_accuracy: 0.5298\n",
            "Epoch 3/100\n",
            "313/313 [==============================] - 9s 29ms/step - loss: 0.6882 - accuracy: 0.5387 - val_loss: 0.6879 - val_accuracy: 0.5420\n",
            "Epoch 4/100\n",
            "313/313 [==============================] - 8s 26ms/step - loss: 0.6849 - accuracy: 0.5600 - val_loss: 0.6857 - val_accuracy: 0.5554\n",
            "Epoch 5/100\n",
            "313/313 [==============================] - 9s 29ms/step - loss: 0.6814 - accuracy: 0.5694 - val_loss: 0.6834 - val_accuracy: 0.5592\n",
            "Epoch 6/100\n",
            "313/313 [==============================] - 9s 30ms/step - loss: 0.6779 - accuracy: 0.5764 - val_loss: 0.6810 - val_accuracy: 0.5618\n",
            "Epoch 7/100\n",
            "313/313 [==============================] - 9s 30ms/step - loss: 0.6744 - accuracy: 0.5863 - val_loss: 0.6789 - val_accuracy: 0.5652\n",
            "Epoch 8/100\n",
            "313/313 [==============================] - 8s 25ms/step - loss: 0.6710 - accuracy: 0.5886 - val_loss: 0.6770 - val_accuracy: 0.5702\n",
            "Epoch 9/100\n",
            "313/313 [==============================] - 9s 29ms/step - loss: 0.6676 - accuracy: 0.5933 - val_loss: 0.6751 - val_accuracy: 0.5712\n",
            "Epoch 10/100\n",
            "313/313 [==============================] - 9s 29ms/step - loss: 0.6643 - accuracy: 0.5979 - val_loss: 0.6729 - val_accuracy: 0.5746\n",
            "Epoch 11/100\n",
            "313/313 [==============================] - 8s 25ms/step - loss: 0.6609 - accuracy: 0.6051 - val_loss: 0.6705 - val_accuracy: 0.5810\n",
            "Epoch 12/100\n",
            "313/313 [==============================] - 9s 29ms/step - loss: 0.6569 - accuracy: 0.6143 - val_loss: 0.6671 - val_accuracy: 0.5900\n",
            "Epoch 13/100\n",
            "313/313 [==============================] - 9s 29ms/step - loss: 0.6522 - accuracy: 0.6206 - val_loss: 0.6620 - val_accuracy: 0.5954\n",
            "Epoch 14/100\n",
            "313/313 [==============================] - 9s 28ms/step - loss: 0.6449 - accuracy: 0.6313 - val_loss: 0.6521 - val_accuracy: 0.6166\n",
            "Epoch 15/100\n",
            "313/313 [==============================] - 8s 26ms/step - loss: 0.6289 - accuracy: 0.6524 - val_loss: 0.6215 - val_accuracy: 0.6556\n",
            "Epoch 16/100\n",
            "313/313 [==============================] - 9s 29ms/step - loss: 0.5796 - accuracy: 0.6993 - val_loss: 0.5700 - val_accuracy: 0.7118\n",
            "Epoch 17/100\n",
            "313/313 [==============================] - 9s 29ms/step - loss: 0.5542 - accuracy: 0.7225 - val_loss: 0.5605 - val_accuracy: 0.7216\n",
            "Epoch 18/100\n",
            "313/313 [==============================] - 8s 26ms/step - loss: 0.5401 - accuracy: 0.7362 - val_loss: 0.5527 - val_accuracy: 0.7290\n",
            "Epoch 19/100\n",
            "313/313 [==============================] - 11s 36ms/step - loss: 0.5291 - accuracy: 0.7458 - val_loss: 0.5432 - val_accuracy: 0.7342\n",
            "Epoch 20/100\n",
            "313/313 [==============================] - 9s 30ms/step - loss: 0.5205 - accuracy: 0.7521 - val_loss: 0.5361 - val_accuracy: 0.7382\n",
            "Epoch 21/100\n",
            "313/313 [==============================] - 9s 30ms/step - loss: 0.5144 - accuracy: 0.7576 - val_loss: 0.5408 - val_accuracy: 0.7320\n",
            "Epoch 22/100\n",
            "313/313 [==============================] - 8s 26ms/step - loss: 0.5085 - accuracy: 0.7596 - val_loss: 0.5324 - val_accuracy: 0.7398\n",
            "Epoch 23/100\n",
            "313/313 [==============================] - 9s 30ms/step - loss: 0.5047 - accuracy: 0.7635 - val_loss: 0.5262 - val_accuracy: 0.7428\n",
            "Epoch 24/100\n",
            "313/313 [==============================] - 9s 30ms/step - loss: 0.5003 - accuracy: 0.7660 - val_loss: 0.5266 - val_accuracy: 0.7420\n",
            "Epoch 25/100\n",
            "313/313 [==============================] - 8s 26ms/step - loss: 0.4977 - accuracy: 0.7681 - val_loss: 0.5257 - val_accuracy: 0.7400\n",
            "Epoch 26/100\n",
            "313/313 [==============================] - 9s 28ms/step - loss: 0.4947 - accuracy: 0.7678 - val_loss: 0.5261 - val_accuracy: 0.7448\n",
            "Epoch 27/100\n",
            "313/313 [==============================] - 9s 30ms/step - loss: 0.4921 - accuracy: 0.7681 - val_loss: 0.5216 - val_accuracy: 0.7438\n",
            "Epoch 28/100\n",
            "313/313 [==============================] - 9s 30ms/step - loss: 0.4899 - accuracy: 0.7736 - val_loss: 0.5195 - val_accuracy: 0.7452\n",
            "Epoch 29/100\n",
            "313/313 [==============================] - 8s 26ms/step - loss: 0.4876 - accuracy: 0.7742 - val_loss: 0.5186 - val_accuracy: 0.7458\n",
            "Epoch 30/100\n",
            "313/313 [==============================] - 9s 29ms/step - loss: 0.4857 - accuracy: 0.7746 - val_loss: 0.5178 - val_accuracy: 0.7458\n",
            "Epoch 31/100\n",
            "313/313 [==============================] - 9s 30ms/step - loss: 0.4838 - accuracy: 0.7761 - val_loss: 0.5166 - val_accuracy: 0.7486\n",
            "Epoch 32/100\n",
            "313/313 [==============================] - 8s 26ms/step - loss: 0.4818 - accuracy: 0.7776 - val_loss: 0.5160 - val_accuracy: 0.7460\n",
            "Epoch 33/100\n",
            "313/313 [==============================] - 9s 29ms/step - loss: 0.4816 - accuracy: 0.7779 - val_loss: 0.5152 - val_accuracy: 0.7482\n",
            "Epoch 34/100\n",
            "313/313 [==============================] - 9s 29ms/step - loss: 0.4793 - accuracy: 0.7794 - val_loss: 0.5149 - val_accuracy: 0.7492\n",
            "Epoch 35/100\n",
            "313/313 [==============================] - 9s 27ms/step - loss: 0.4782 - accuracy: 0.7792 - val_loss: 0.5178 - val_accuracy: 0.7472\n",
            "Epoch 36/100\n",
            "313/313 [==============================] - 8s 27ms/step - loss: 0.4775 - accuracy: 0.7786 - val_loss: 0.5137 - val_accuracy: 0.7498\n",
            "Epoch 37/100\n",
            "313/313 [==============================] - 9s 29ms/step - loss: 0.4764 - accuracy: 0.7791 - val_loss: 0.5150 - val_accuracy: 0.7496\n",
            "Epoch 38/100\n",
            "313/313 [==============================] - 9s 30ms/step - loss: 0.4757 - accuracy: 0.7803 - val_loss: 0.5126 - val_accuracy: 0.7510\n",
            "Epoch 39/100\n",
            "313/313 [==============================] - 8s 26ms/step - loss: 0.4743 - accuracy: 0.7810 - val_loss: 0.5158 - val_accuracy: 0.7490\n",
            "Epoch 40/100\n",
            "313/313 [==============================] - 9s 30ms/step - loss: 0.4737 - accuracy: 0.7820 - val_loss: 0.5118 - val_accuracy: 0.7496\n",
            "Epoch 41/100\n",
            "313/313 [==============================] - 9s 30ms/step - loss: 0.4727 - accuracy: 0.7821 - val_loss: 0.5142 - val_accuracy: 0.7484\n",
            "Epoch 42/100\n",
            "313/313 [==============================] - 9s 29ms/step - loss: 0.4714 - accuracy: 0.7828 - val_loss: 0.5136 - val_accuracy: 0.7498\n",
            "Epoch 43/100\n",
            "313/313 [==============================] - 8s 26ms/step - loss: 0.4710 - accuracy: 0.7831 - val_loss: 0.5125 - val_accuracy: 0.7486\n"
          ]
        }
      ]
    },
    {
      "cell_type": "code",
      "source": [
        "plt.plot(history.history['loss'])\n",
        "plt.plot(history.history['val_loss'])\n",
        "plt.xlabel('epoch')\n",
        "plt.ylabel('loss')\n",
        "plt.legend(['train', 'val'])\n",
        "plt.show()"
      ],
      "metadata": {
        "colab": {
          "base_uri": "https://localhost:8080/",
          "height": 449
        },
        "id": "S1-k6KqAGNpa",
        "outputId": "e2b0901d-53fc-4c39-8fc5-85244c01423d"
      },
      "execution_count": 39,
      "outputs": [
        {
          "output_type": "display_data",
          "data": {
            "text/plain": [
              "<Figure size 640x480 with 1 Axes>"
            ],
            "image/png": "[encoded data removed]"
          },
          "metadata": {}
        }
      ]
    }
  ]
}